{
  "nbformat": 4,
  "nbformat_minor": 0,
  "metadata": {
    "colab": {
      "name": "unsupervised_extractive.ipynb",
      "provenance": [],
      "collapsed_sections": []
    },
    "kernelspec": {
      "name": "python3",
      "display_name": "Python 3"
    },
    "accelerator": "GPU",
    "widgets": {
      "application/vnd.jupyter.widget-state+json": {
        "055f7ddc78f34de4840358cd46378ae9": {
          "model_module": "@jupyter-widgets/controls",
          "model_name": "HBoxModel",
          "state": {
            "_view_name": "HBoxView",
            "_dom_classes": [],
            "_model_name": "HBoxModel",
            "_view_module": "@jupyter-widgets/controls",
            "_model_module_version": "1.5.0",
            "_view_count": null,
            "_view_module_version": "1.5.0",
            "box_style": "",
            "layout": "IPY_MODEL_c60c3702f89d4e6d8e664e412815edad",
            "_model_module": "@jupyter-widgets/controls",
            "children": [
              "IPY_MODEL_e8ea2ab5073643bf8db6d217f087b0db",
              "IPY_MODEL_6d36bcb286a940d38d8e8ee21ef268cb"
            ]
          }
        },
        "c60c3702f89d4e6d8e664e412815edad": {
          "model_module": "@jupyter-widgets/base",
          "model_name": "LayoutModel",
          "state": {
            "_view_name": "LayoutView",
            "grid_template_rows": null,
            "right": null,
            "justify_content": null,
            "_view_module": "@jupyter-widgets/base",
            "overflow": null,
            "_model_module_version": "1.2.0",
            "_view_count": null,
            "flex_flow": null,
            "width": null,
            "min_width": null,
            "border": null,
            "align_items": null,
            "bottom": null,
            "_model_module": "@jupyter-widgets/base",
            "top": null,
            "grid_column": null,
            "overflow_y": null,
            "overflow_x": null,
            "grid_auto_flow": null,
            "grid_area": null,
            "grid_template_columns": null,
            "flex": null,
            "_model_name": "LayoutModel",
            "justify_items": null,
            "grid_row": null,
            "max_height": null,
            "align_content": null,
            "visibility": null,
            "align_self": null,
            "height": null,
            "min_height": null,
            "padding": null,
            "grid_auto_rows": null,
            "grid_gap": null,
            "max_width": null,
            "order": null,
            "_view_module_version": "1.2.0",
            "grid_template_areas": null,
            "object_position": null,
            "object_fit": null,
            "grid_auto_columns": null,
            "margin": null,
            "display": null,
            "left": null
          }
        },
        "e8ea2ab5073643bf8db6d217f087b0db": {
          "model_module": "@jupyter-widgets/controls",
          "model_name": "FloatProgressModel",
          "state": {
            "_view_name": "ProgressView",
            "style": "IPY_MODEL_f68c4350c9ce4954bbed13dd1de78f3a",
            "_dom_classes": [],
            "description": "Downloading: 100%",
            "_model_name": "FloatProgressModel",
            "bar_style": "success",
            "max": 433,
            "_view_module": "@jupyter-widgets/controls",
            "_model_module_version": "1.5.0",
            "value": 433,
            "_view_count": null,
            "_view_module_version": "1.5.0",
            "orientation": "horizontal",
            "min": 0,
            "description_tooltip": null,
            "_model_module": "@jupyter-widgets/controls",
            "layout": "IPY_MODEL_bcd69741db84420b935eaad48ad431d2"
          }
        },
        "6d36bcb286a940d38d8e8ee21ef268cb": {
          "model_module": "@jupyter-widgets/controls",
          "model_name": "HTMLModel",
          "state": {
            "_view_name": "HTMLView",
            "style": "IPY_MODEL_803e64437bbb4bb0a1db27332940ccdd",
            "_dom_classes": [],
            "description": "",
            "_model_name": "HTMLModel",
            "placeholder": "​",
            "_view_module": "@jupyter-widgets/controls",
            "_model_module_version": "1.5.0",
            "value": " 433/433 [00:25&lt;00:00, 17.0B/s]",
            "_view_count": null,
            "_view_module_version": "1.5.0",
            "description_tooltip": null,
            "_model_module": "@jupyter-widgets/controls",
            "layout": "IPY_MODEL_e9e231c0020843ab8731d01dc666729d"
          }
        },
        "f68c4350c9ce4954bbed13dd1de78f3a": {
          "model_module": "@jupyter-widgets/controls",
          "model_name": "ProgressStyleModel",
          "state": {
            "_view_name": "StyleView",
            "_model_name": "ProgressStyleModel",
            "description_width": "initial",
            "_view_module": "@jupyter-widgets/base",
            "_model_module_version": "1.5.0",
            "_view_count": null,
            "_view_module_version": "1.2.0",
            "bar_color": null,
            "_model_module": "@jupyter-widgets/controls"
          }
        },
        "bcd69741db84420b935eaad48ad431d2": {
          "model_module": "@jupyter-widgets/base",
          "model_name": "LayoutModel",
          "state": {
            "_view_name": "LayoutView",
            "grid_template_rows": null,
            "right": null,
            "justify_content": null,
            "_view_module": "@jupyter-widgets/base",
            "overflow": null,
            "_model_module_version": "1.2.0",
            "_view_count": null,
            "flex_flow": null,
            "width": null,
            "min_width": null,
            "border": null,
            "align_items": null,
            "bottom": null,
            "_model_module": "@jupyter-widgets/base",
            "top": null,
            "grid_column": null,
            "overflow_y": null,
            "overflow_x": null,
            "grid_auto_flow": null,
            "grid_area": null,
            "grid_template_columns": null,
            "flex": null,
            "_model_name": "LayoutModel",
            "justify_items": null,
            "grid_row": null,
            "max_height": null,
            "align_content": null,
            "visibility": null,
            "align_self": null,
            "height": null,
            "min_height": null,
            "padding": null,
            "grid_auto_rows": null,
            "grid_gap": null,
            "max_width": null,
            "order": null,
            "_view_module_version": "1.2.0",
            "grid_template_areas": null,
            "object_position": null,
            "object_fit": null,
            "grid_auto_columns": null,
            "margin": null,
            "display": null,
            "left": null
          }
        },
        "803e64437bbb4bb0a1db27332940ccdd": {
          "model_module": "@jupyter-widgets/controls",
          "model_name": "DescriptionStyleModel",
          "state": {
            "_view_name": "StyleView",
            "_model_name": "DescriptionStyleModel",
            "description_width": "",
            "_view_module": "@jupyter-widgets/base",
            "_model_module_version": "1.5.0",
            "_view_count": null,
            "_view_module_version": "1.2.0",
            "_model_module": "@jupyter-widgets/controls"
          }
        },
        "e9e231c0020843ab8731d01dc666729d": {
          "model_module": "@jupyter-widgets/base",
          "model_name": "LayoutModel",
          "state": {
            "_view_name": "LayoutView",
            "grid_template_rows": null,
            "right": null,
            "justify_content": null,
            "_view_module": "@jupyter-widgets/base",
            "overflow": null,
            "_model_module_version": "1.2.0",
            "_view_count": null,
            "flex_flow": null,
            "width": null,
            "min_width": null,
            "border": null,
            "align_items": null,
            "bottom": null,
            "_model_module": "@jupyter-widgets/base",
            "top": null,
            "grid_column": null,
            "overflow_y": null,
            "overflow_x": null,
            "grid_auto_flow": null,
            "grid_area": null,
            "grid_template_columns": null,
            "flex": null,
            "_model_name": "LayoutModel",
            "justify_items": null,
            "grid_row": null,
            "max_height": null,
            "align_content": null,
            "visibility": null,
            "align_self": null,
            "height": null,
            "min_height": null,
            "padding": null,
            "grid_auto_rows": null,
            "grid_gap": null,
            "max_width": null,
            "order": null,
            "_view_module_version": "1.2.0",
            "grid_template_areas": null,
            "object_position": null,
            "object_fit": null,
            "grid_auto_columns": null,
            "margin": null,
            "display": null,
            "left": null
          }
        },
        "ed9d52d6c8d34fec989183f79e076192": {
          "model_module": "@jupyter-widgets/controls",
          "model_name": "HBoxModel",
          "state": {
            "_view_name": "HBoxView",
            "_dom_classes": [],
            "_model_name": "HBoxModel",
            "_view_module": "@jupyter-widgets/controls",
            "_model_module_version": "1.5.0",
            "_view_count": null,
            "_view_module_version": "1.5.0",
            "box_style": "",
            "layout": "IPY_MODEL_068c28b3020b41efb61aacf0204409e6",
            "_model_module": "@jupyter-widgets/controls",
            "children": [
              "IPY_MODEL_0861556e173141caa13338cc24f64748",
              "IPY_MODEL_7c3c6c63d143447e9866b54e1bd9e99a"
            ]
          }
        },
        "068c28b3020b41efb61aacf0204409e6": {
          "model_module": "@jupyter-widgets/base",
          "model_name": "LayoutModel",
          "state": {
            "_view_name": "LayoutView",
            "grid_template_rows": null,
            "right": null,
            "justify_content": null,
            "_view_module": "@jupyter-widgets/base",
            "overflow": null,
            "_model_module_version": "1.2.0",
            "_view_count": null,
            "flex_flow": null,
            "width": null,
            "min_width": null,
            "border": null,
            "align_items": null,
            "bottom": null,
            "_model_module": "@jupyter-widgets/base",
            "top": null,
            "grid_column": null,
            "overflow_y": null,
            "overflow_x": null,
            "grid_auto_flow": null,
            "grid_area": null,
            "grid_template_columns": null,
            "flex": null,
            "_model_name": "LayoutModel",
            "justify_items": null,
            "grid_row": null,
            "max_height": null,
            "align_content": null,
            "visibility": null,
            "align_self": null,
            "height": null,
            "min_height": null,
            "padding": null,
            "grid_auto_rows": null,
            "grid_gap": null,
            "max_width": null,
            "order": null,
            "_view_module_version": "1.2.0",
            "grid_template_areas": null,
            "object_position": null,
            "object_fit": null,
            "grid_auto_columns": null,
            "margin": null,
            "display": null,
            "left": null
          }
        },
        "0861556e173141caa13338cc24f64748": {
          "model_module": "@jupyter-widgets/controls",
          "model_name": "FloatProgressModel",
          "state": {
            "_view_name": "ProgressView",
            "style": "IPY_MODEL_9eb9a221c6724a20a3be11df9e289a2c",
            "_dom_classes": [],
            "description": "Downloading: 100%",
            "_model_name": "FloatProgressModel",
            "bar_style": "success",
            "max": 440473133,
            "_view_module": "@jupyter-widgets/controls",
            "_model_module_version": "1.5.0",
            "value": 440473133,
            "_view_count": null,
            "_view_module_version": "1.5.0",
            "orientation": "horizontal",
            "min": 0,
            "description_tooltip": null,
            "_model_module": "@jupyter-widgets/controls",
            "layout": "IPY_MODEL_8722e74cbac24973980d3be84918a7ee"
          }
        },
        "7c3c6c63d143447e9866b54e1bd9e99a": {
          "model_module": "@jupyter-widgets/controls",
          "model_name": "HTMLModel",
          "state": {
            "_view_name": "HTMLView",
            "style": "IPY_MODEL_a2e1c029ff914972911774dd3d5bf9e4",
            "_dom_classes": [],
            "description": "",
            "_model_name": "HTMLModel",
            "placeholder": "​",
            "_view_module": "@jupyter-widgets/controls",
            "_model_module_version": "1.5.0",
            "value": " 440M/440M [00:07&lt;00:00, 56.5MB/s]",
            "_view_count": null,
            "_view_module_version": "1.5.0",
            "description_tooltip": null,
            "_model_module": "@jupyter-widgets/controls",
            "layout": "IPY_MODEL_275afa1e6ad6465b8d902b23e9afd786"
          }
        },
        "9eb9a221c6724a20a3be11df9e289a2c": {
          "model_module": "@jupyter-widgets/controls",
          "model_name": "ProgressStyleModel",
          "state": {
            "_view_name": "StyleView",
            "_model_name": "ProgressStyleModel",
            "description_width": "initial",
            "_view_module": "@jupyter-widgets/base",
            "_model_module_version": "1.5.0",
            "_view_count": null,
            "_view_module_version": "1.2.0",
            "bar_color": null,
            "_model_module": "@jupyter-widgets/controls"
          }
        },
        "8722e74cbac24973980d3be84918a7ee": {
          "model_module": "@jupyter-widgets/base",
          "model_name": "LayoutModel",
          "state": {
            "_view_name": "LayoutView",
            "grid_template_rows": null,
            "right": null,
            "justify_content": null,
            "_view_module": "@jupyter-widgets/base",
            "overflow": null,
            "_model_module_version": "1.2.0",
            "_view_count": null,
            "flex_flow": null,
            "width": null,
            "min_width": null,
            "border": null,
            "align_items": null,
            "bottom": null,
            "_model_module": "@jupyter-widgets/base",
            "top": null,
            "grid_column": null,
            "overflow_y": null,
            "overflow_x": null,
            "grid_auto_flow": null,
            "grid_area": null,
            "grid_template_columns": null,
            "flex": null,
            "_model_name": "LayoutModel",
            "justify_items": null,
            "grid_row": null,
            "max_height": null,
            "align_content": null,
            "visibility": null,
            "align_self": null,
            "height": null,
            "min_height": null,
            "padding": null,
            "grid_auto_rows": null,
            "grid_gap": null,
            "max_width": null,
            "order": null,
            "_view_module_version": "1.2.0",
            "grid_template_areas": null,
            "object_position": null,
            "object_fit": null,
            "grid_auto_columns": null,
            "margin": null,
            "display": null,
            "left": null
          }
        },
        "a2e1c029ff914972911774dd3d5bf9e4": {
          "model_module": "@jupyter-widgets/controls",
          "model_name": "DescriptionStyleModel",
          "state": {
            "_view_name": "StyleView",
            "_model_name": "DescriptionStyleModel",
            "description_width": "",
            "_view_module": "@jupyter-widgets/base",
            "_model_module_version": "1.5.0",
            "_view_count": null,
            "_view_module_version": "1.2.0",
            "_model_module": "@jupyter-widgets/controls"
          }
        },
        "275afa1e6ad6465b8d902b23e9afd786": {
          "model_module": "@jupyter-widgets/base",
          "model_name": "LayoutModel",
          "state": {
            "_view_name": "LayoutView",
            "grid_template_rows": null,
            "right": null,
            "justify_content": null,
            "_view_module": "@jupyter-widgets/base",
            "overflow": null,
            "_model_module_version": "1.2.0",
            "_view_count": null,
            "flex_flow": null,
            "width": null,
            "min_width": null,
            "border": null,
            "align_items": null,
            "bottom": null,
            "_model_module": "@jupyter-widgets/base",
            "top": null,
            "grid_column": null,
            "overflow_y": null,
            "overflow_x": null,
            "grid_auto_flow": null,
            "grid_area": null,
            "grid_template_columns": null,
            "flex": null,
            "_model_name": "LayoutModel",
            "justify_items": null,
            "grid_row": null,
            "max_height": null,
            "align_content": null,
            "visibility": null,
            "align_self": null,
            "height": null,
            "min_height": null,
            "padding": null,
            "grid_auto_rows": null,
            "grid_gap": null,
            "max_width": null,
            "order": null,
            "_view_module_version": "1.2.0",
            "grid_template_areas": null,
            "object_position": null,
            "object_fit": null,
            "grid_auto_columns": null,
            "margin": null,
            "display": null,
            "left": null
          }
        },
        "e8dd95ab37f24f009f1e906491b10d7e": {
          "model_module": "@jupyter-widgets/controls",
          "model_name": "HBoxModel",
          "state": {
            "_view_name": "HBoxView",
            "_dom_classes": [],
            "_model_name": "HBoxModel",
            "_view_module": "@jupyter-widgets/controls",
            "_model_module_version": "1.5.0",
            "_view_count": null,
            "_view_module_version": "1.5.0",
            "box_style": "",
            "layout": "IPY_MODEL_f1ee0476159c4aa8908fdc077ba11cb0",
            "_model_module": "@jupyter-widgets/controls",
            "children": [
              "IPY_MODEL_911142cec47549bfaeddc3c0a02a8004",
              "IPY_MODEL_2455525143734caa90c5594723d0550d"
            ]
          }
        },
        "f1ee0476159c4aa8908fdc077ba11cb0": {
          "model_module": "@jupyter-widgets/base",
          "model_name": "LayoutModel",
          "state": {
            "_view_name": "LayoutView",
            "grid_template_rows": null,
            "right": null,
            "justify_content": null,
            "_view_module": "@jupyter-widgets/base",
            "overflow": null,
            "_model_module_version": "1.2.0",
            "_view_count": null,
            "flex_flow": null,
            "width": null,
            "min_width": null,
            "border": null,
            "align_items": null,
            "bottom": null,
            "_model_module": "@jupyter-widgets/base",
            "top": null,
            "grid_column": null,
            "overflow_y": null,
            "overflow_x": null,
            "grid_auto_flow": null,
            "grid_area": null,
            "grid_template_columns": null,
            "flex": null,
            "_model_name": "LayoutModel",
            "justify_items": null,
            "grid_row": null,
            "max_height": null,
            "align_content": null,
            "visibility": null,
            "align_self": null,
            "height": null,
            "min_height": null,
            "padding": null,
            "grid_auto_rows": null,
            "grid_gap": null,
            "max_width": null,
            "order": null,
            "_view_module_version": "1.2.0",
            "grid_template_areas": null,
            "object_position": null,
            "object_fit": null,
            "grid_auto_columns": null,
            "margin": null,
            "display": null,
            "left": null
          }
        },
        "911142cec47549bfaeddc3c0a02a8004": {
          "model_module": "@jupyter-widgets/controls",
          "model_name": "FloatProgressModel",
          "state": {
            "_view_name": "ProgressView",
            "style": "IPY_MODEL_edd37dd706f949858668476bea53d18c",
            "_dom_classes": [],
            "description": "Downloading: 100%",
            "_model_name": "FloatProgressModel",
            "bar_style": "success",
            "max": 231508,
            "_view_module": "@jupyter-widgets/controls",
            "_model_module_version": "1.5.0",
            "value": 231508,
            "_view_count": null,
            "_view_module_version": "1.5.0",
            "orientation": "horizontal",
            "min": 0,
            "description_tooltip": null,
            "_model_module": "@jupyter-widgets/controls",
            "layout": "IPY_MODEL_23f8511741504a5599ff87d590e6ce85"
          }
        },
        "2455525143734caa90c5594723d0550d": {
          "model_module": "@jupyter-widgets/controls",
          "model_name": "HTMLModel",
          "state": {
            "_view_name": "HTMLView",
            "style": "IPY_MODEL_cdcee44f9e2c4cdf973291dd1eaf4c81",
            "_dom_classes": [],
            "description": "",
            "_model_name": "HTMLModel",
            "placeholder": "​",
            "_view_module": "@jupyter-widgets/controls",
            "_model_module_version": "1.5.0",
            "value": " 232k/232k [00:00&lt;00:00, 848kB/s]",
            "_view_count": null,
            "_view_module_version": "1.5.0",
            "description_tooltip": null,
            "_model_module": "@jupyter-widgets/controls",
            "layout": "IPY_MODEL_0469e17a27d94232b5a841f3f3f8ce4e"
          }
        },
        "edd37dd706f949858668476bea53d18c": {
          "model_module": "@jupyter-widgets/controls",
          "model_name": "ProgressStyleModel",
          "state": {
            "_view_name": "StyleView",
            "_model_name": "ProgressStyleModel",
            "description_width": "initial",
            "_view_module": "@jupyter-widgets/base",
            "_model_module_version": "1.5.0",
            "_view_count": null,
            "_view_module_version": "1.2.0",
            "bar_color": null,
            "_model_module": "@jupyter-widgets/controls"
          }
        },
        "23f8511741504a5599ff87d590e6ce85": {
          "model_module": "@jupyter-widgets/base",
          "model_name": "LayoutModel",
          "state": {
            "_view_name": "LayoutView",
            "grid_template_rows": null,
            "right": null,
            "justify_content": null,
            "_view_module": "@jupyter-widgets/base",
            "overflow": null,
            "_model_module_version": "1.2.0",
            "_view_count": null,
            "flex_flow": null,
            "width": null,
            "min_width": null,
            "border": null,
            "align_items": null,
            "bottom": null,
            "_model_module": "@jupyter-widgets/base",
            "top": null,
            "grid_column": null,
            "overflow_y": null,
            "overflow_x": null,
            "grid_auto_flow": null,
            "grid_area": null,
            "grid_template_columns": null,
            "flex": null,
            "_model_name": "LayoutModel",
            "justify_items": null,
            "grid_row": null,
            "max_height": null,
            "align_content": null,
            "visibility": null,
            "align_self": null,
            "height": null,
            "min_height": null,
            "padding": null,
            "grid_auto_rows": null,
            "grid_gap": null,
            "max_width": null,
            "order": null,
            "_view_module_version": "1.2.0",
            "grid_template_areas": null,
            "object_position": null,
            "object_fit": null,
            "grid_auto_columns": null,
            "margin": null,
            "display": null,
            "left": null
          }
        },
        "cdcee44f9e2c4cdf973291dd1eaf4c81": {
          "model_module": "@jupyter-widgets/controls",
          "model_name": "DescriptionStyleModel",
          "state": {
            "_view_name": "StyleView",
            "_model_name": "DescriptionStyleModel",
            "description_width": "",
            "_view_module": "@jupyter-widgets/base",
            "_model_module_version": "1.5.0",
            "_view_count": null,
            "_view_module_version": "1.2.0",
            "_model_module": "@jupyter-widgets/controls"
          }
        },
        "0469e17a27d94232b5a841f3f3f8ce4e": {
          "model_module": "@jupyter-widgets/base",
          "model_name": "LayoutModel",
          "state": {
            "_view_name": "LayoutView",
            "grid_template_rows": null,
            "right": null,
            "justify_content": null,
            "_view_module": "@jupyter-widgets/base",
            "overflow": null,
            "_model_module_version": "1.2.0",
            "_view_count": null,
            "flex_flow": null,
            "width": null,
            "min_width": null,
            "border": null,
            "align_items": null,
            "bottom": null,
            "_model_module": "@jupyter-widgets/base",
            "top": null,
            "grid_column": null,
            "overflow_y": null,
            "overflow_x": null,
            "grid_auto_flow": null,
            "grid_area": null,
            "grid_template_columns": null,
            "flex": null,
            "_model_name": "LayoutModel",
            "justify_items": null,
            "grid_row": null,
            "max_height": null,
            "align_content": null,
            "visibility": null,
            "align_self": null,
            "height": null,
            "min_height": null,
            "padding": null,
            "grid_auto_rows": null,
            "grid_gap": null,
            "max_width": null,
            "order": null,
            "_view_module_version": "1.2.0",
            "grid_template_areas": null,
            "object_position": null,
            "object_fit": null,
            "grid_auto_columns": null,
            "margin": null,
            "display": null,
            "left": null
          }
        }
      }
    }
  },
  "cells": [
    {
      "cell_type": "code",
      "metadata": {
        "id": "OPGfOZ4n9yA-",
        "outputId": "88823430-2f39-437a-c9a0-059a2b21a9e4",
        "colab": {
          "base_uri": "https://localhost:8080/"
        }
      },
      "source": [
        "!pip install transformers==3.0.2"
      ],
      "execution_count": 1,
      "outputs": [
        {
          "output_type": "stream",
          "text": [
            "Collecting transformers==3.0.2\n",
            "\u001b[?25l  Downloading https://files.pythonhosted.org/packages/27/3c/91ed8f5c4e7ef3227b4119200fc0ed4b4fd965b1f0172021c25701087825/transformers-3.0.2-py3-none-any.whl (769kB)\n",
            "\r\u001b[K     |▍                               | 10kB 23.7MB/s eta 0:00:01\r\u001b[K     |▉                               | 20kB 2.8MB/s eta 0:00:01\r\u001b[K     |█▎                              | 30kB 3.8MB/s eta 0:00:01\r\u001b[K     |█▊                              | 40kB 4.1MB/s eta 0:00:01\r\u001b[K     |██▏                             | 51kB 3.4MB/s eta 0:00:01\r\u001b[K     |██▋                             | 61kB 3.7MB/s eta 0:00:01\r\u001b[K     |███                             | 71kB 4.1MB/s eta 0:00:01\r\u001b[K     |███▍                            | 81kB 4.3MB/s eta 0:00:01\r\u001b[K     |███▉                            | 92kB 4.7MB/s eta 0:00:01\r\u001b[K     |████▎                           | 102kB 4.5MB/s eta 0:00:01\r\u001b[K     |████▊                           | 112kB 4.5MB/s eta 0:00:01\r\u001b[K     |█████▏                          | 122kB 4.5MB/s eta 0:00:01\r\u001b[K     |█████▌                          | 133kB 4.5MB/s eta 0:00:01\r\u001b[K     |██████                          | 143kB 4.5MB/s eta 0:00:01\r\u001b[K     |██████▍                         | 153kB 4.5MB/s eta 0:00:01\r\u001b[K     |██████▉                         | 163kB 4.5MB/s eta 0:00:01\r\u001b[K     |███████▎                        | 174kB 4.5MB/s eta 0:00:01\r\u001b[K     |███████▊                        | 184kB 4.5MB/s eta 0:00:01\r\u001b[K     |████████                        | 194kB 4.5MB/s eta 0:00:01\r\u001b[K     |████████▌                       | 204kB 4.5MB/s eta 0:00:01\r\u001b[K     |█████████                       | 215kB 4.5MB/s eta 0:00:01\r\u001b[K     |█████████▍                      | 225kB 4.5MB/s eta 0:00:01\r\u001b[K     |█████████▉                      | 235kB 4.5MB/s eta 0:00:01\r\u001b[K     |██████████▎                     | 245kB 4.5MB/s eta 0:00:01\r\u001b[K     |██████████▋                     | 256kB 4.5MB/s eta 0:00:01\r\u001b[K     |███████████                     | 266kB 4.5MB/s eta 0:00:01\r\u001b[K     |███████████▌                    | 276kB 4.5MB/s eta 0:00:01\r\u001b[K     |████████████                    | 286kB 4.5MB/s eta 0:00:01\r\u001b[K     |████████████▍                   | 296kB 4.5MB/s eta 0:00:01\r\u001b[K     |████████████▉                   | 307kB 4.5MB/s eta 0:00:01\r\u001b[K     |█████████████▏                  | 317kB 4.5MB/s eta 0:00:01\r\u001b[K     |█████████████▋                  | 327kB 4.5MB/s eta 0:00:01\r\u001b[K     |██████████████                  | 337kB 4.5MB/s eta 0:00:01\r\u001b[K     |██████████████▌                 | 348kB 4.5MB/s eta 0:00:01\r\u001b[K     |███████████████                 | 358kB 4.5MB/s eta 0:00:01\r\u001b[K     |███████████████▍                | 368kB 4.5MB/s eta 0:00:01\r\u001b[K     |███████████████▊                | 378kB 4.5MB/s eta 0:00:01\r\u001b[K     |████████████████▏               | 389kB 4.5MB/s eta 0:00:01\r\u001b[K     |████████████████▋               | 399kB 4.5MB/s eta 0:00:01\r\u001b[K     |█████████████████               | 409kB 4.5MB/s eta 0:00:01\r\u001b[K     |█████████████████▌              | 419kB 4.5MB/s eta 0:00:01\r\u001b[K     |██████████████████              | 430kB 4.5MB/s eta 0:00:01\r\u001b[K     |██████████████████▎             | 440kB 4.5MB/s eta 0:00:01\r\u001b[K     |██████████████████▊             | 450kB 4.5MB/s eta 0:00:01\r\u001b[K     |███████████████████▏            | 460kB 4.5MB/s eta 0:00:01\r\u001b[K     |███████████████████▋            | 471kB 4.5MB/s eta 0:00:01\r\u001b[K     |████████████████████            | 481kB 4.5MB/s eta 0:00:01\r\u001b[K     |████████████████████▌           | 491kB 4.5MB/s eta 0:00:01\r\u001b[K     |████████████████████▉           | 501kB 4.5MB/s eta 0:00:01\r\u001b[K     |█████████████████████▎          | 512kB 4.5MB/s eta 0:00:01\r\u001b[K     |█████████████████████▊          | 522kB 4.5MB/s eta 0:00:01\r\u001b[K     |██████████████████████▏         | 532kB 4.5MB/s eta 0:00:01\r\u001b[K     |██████████████████████▋         | 542kB 4.5MB/s eta 0:00:01\r\u001b[K     |███████████████████████         | 552kB 4.5MB/s eta 0:00:01\r\u001b[K     |███████████████████████▍        | 563kB 4.5MB/s eta 0:00:01\r\u001b[K     |███████████████████████▉        | 573kB 4.5MB/s eta 0:00:01\r\u001b[K     |████████████████████████▎       | 583kB 4.5MB/s eta 0:00:01\r\u001b[K     |████████████████████████▊       | 593kB 4.5MB/s eta 0:00:01\r\u001b[K     |█████████████████████████▏      | 604kB 4.5MB/s eta 0:00:01\r\u001b[K     |█████████████████████████▋      | 614kB 4.5MB/s eta 0:00:01\r\u001b[K     |██████████████████████████      | 624kB 4.5MB/s eta 0:00:01\r\u001b[K     |██████████████████████████▍     | 634kB 4.5MB/s eta 0:00:01\r\u001b[K     |██████████████████████████▉     | 645kB 4.5MB/s eta 0:00:01\r\u001b[K     |███████████████████████████▎    | 655kB 4.5MB/s eta 0:00:01\r\u001b[K     |███████████████████████████▊    | 665kB 4.5MB/s eta 0:00:01\r\u001b[K     |████████████████████████████▏   | 675kB 4.5MB/s eta 0:00:01\r\u001b[K     |████████████████████████████▌   | 686kB 4.5MB/s eta 0:00:01\r\u001b[K     |█████████████████████████████   | 696kB 4.5MB/s eta 0:00:01\r\u001b[K     |█████████████████████████████▍  | 706kB 4.5MB/s eta 0:00:01\r\u001b[K     |█████████████████████████████▉  | 716kB 4.5MB/s eta 0:00:01\r\u001b[K     |██████████████████████████████▎ | 727kB 4.5MB/s eta 0:00:01\r\u001b[K     |██████████████████████████████▊ | 737kB 4.5MB/s eta 0:00:01\r\u001b[K     |███████████████████████████████ | 747kB 4.5MB/s eta 0:00:01\r\u001b[K     |███████████████████████████████▌| 757kB 4.5MB/s eta 0:00:01\r\u001b[K     |████████████████████████████████| 768kB 4.5MB/s eta 0:00:01\r\u001b[K     |████████████████████████████████| 778kB 4.5MB/s \n",
            "\u001b[?25hRequirement already satisfied: requests in /usr/local/lib/python3.6/dist-packages (from transformers==3.0.2) (2.23.0)\n",
            "Collecting sentencepiece!=0.1.92\n",
            "\u001b[?25l  Downloading https://files.pythonhosted.org/packages/e5/2d/6d4ca4bef9a67070fa1cac508606328329152b1df10bdf31fb6e4e727894/sentencepiece-0.1.94-cp36-cp36m-manylinux2014_x86_64.whl (1.1MB)\n",
            "\u001b[K     |████████████████████████████████| 1.1MB 18.6MB/s \n",
            "\u001b[?25hRequirement already satisfied: dataclasses; python_version < \"3.7\" in /usr/local/lib/python3.6/dist-packages (from transformers==3.0.2) (0.7)\n",
            "Requirement already satisfied: packaging in /usr/local/lib/python3.6/dist-packages (from transformers==3.0.2) (20.4)\n",
            "Collecting sacremoses\n",
            "\u001b[?25l  Downloading https://files.pythonhosted.org/packages/7d/34/09d19aff26edcc8eb2a01bed8e98f13a1537005d31e95233fd48216eed10/sacremoses-0.0.43.tar.gz (883kB)\n",
            "\u001b[K     |████████████████████████████████| 890kB 30.0MB/s \n",
            "\u001b[?25hRequirement already satisfied: filelock in /usr/local/lib/python3.6/dist-packages (from transformers==3.0.2) (3.0.12)\n",
            "Requirement already satisfied: tqdm>=4.27 in /usr/local/lib/python3.6/dist-packages (from transformers==3.0.2) (4.41.1)\n",
            "Requirement already satisfied: regex!=2019.12.17 in /usr/local/lib/python3.6/dist-packages (from transformers==3.0.2) (2019.12.20)\n",
            "Requirement already satisfied: numpy in /usr/local/lib/python3.6/dist-packages (from transformers==3.0.2) (1.18.5)\n",
            "Collecting tokenizers==0.8.1.rc1\n",
            "\u001b[?25l  Downloading https://files.pythonhosted.org/packages/40/d0/30d5f8d221a0ed981a186c8eb986ce1c94e3a6e87f994eae9f4aa5250217/tokenizers-0.8.1rc1-cp36-cp36m-manylinux1_x86_64.whl (3.0MB)\n",
            "\u001b[K     |████████████████████████████████| 3.0MB 42.3MB/s \n",
            "\u001b[?25hRequirement already satisfied: chardet<4,>=3.0.2 in /usr/local/lib/python3.6/dist-packages (from requests->transformers==3.0.2) (3.0.4)\n",
            "Requirement already satisfied: certifi>=2017.4.17 in /usr/local/lib/python3.6/dist-packages (from requests->transformers==3.0.2) (2020.6.20)\n",
            "Requirement already satisfied: urllib3!=1.25.0,!=1.25.1,<1.26,>=1.21.1 in /usr/local/lib/python3.6/dist-packages (from requests->transformers==3.0.2) (1.24.3)\n",
            "Requirement already satisfied: idna<3,>=2.5 in /usr/local/lib/python3.6/dist-packages (from requests->transformers==3.0.2) (2.10)\n",
            "Requirement already satisfied: six in /usr/local/lib/python3.6/dist-packages (from packaging->transformers==3.0.2) (1.15.0)\n",
            "Requirement already satisfied: pyparsing>=2.0.2 in /usr/local/lib/python3.6/dist-packages (from packaging->transformers==3.0.2) (2.4.7)\n",
            "Requirement already satisfied: click in /usr/local/lib/python3.6/dist-packages (from sacremoses->transformers==3.0.2) (7.1.2)\n",
            "Requirement already satisfied: joblib in /usr/local/lib/python3.6/dist-packages (from sacremoses->transformers==3.0.2) (0.17.0)\n",
            "Building wheels for collected packages: sacremoses\n",
            "  Building wheel for sacremoses (setup.py) ... \u001b[?25l\u001b[?25hdone\n",
            "  Created wheel for sacremoses: filename=sacremoses-0.0.43-cp36-none-any.whl size=893257 sha256=6d959398e214372aa4aefaa751ec60d4fd5e3edfd7cd7532de062bdc7968d107\n",
            "  Stored in directory: /root/.cache/pip/wheels/29/3c/fd/7ce5c3f0666dab31a50123635e6fb5e19ceb42ce38d4e58f45\n",
            "Successfully built sacremoses\n",
            "Installing collected packages: sentencepiece, sacremoses, tokenizers, transformers\n",
            "Successfully installed sacremoses-0.0.43 sentencepiece-0.1.94 tokenizers-0.8.1rc1 transformers-3.0.2\n"
          ],
          "name": "stdout"
        }
      ]
    },
    {
      "cell_type": "code",
      "metadata": {
        "id": "iOSjOdCB92Tz",
        "outputId": "632bbce9-0737-416b-d587-8fed097161c1",
        "colab": {
          "base_uri": "https://localhost:8080/",
          "height": 198,
          "referenced_widgets": [
            "055f7ddc78f34de4840358cd46378ae9",
            "c60c3702f89d4e6d8e664e412815edad",
            "e8ea2ab5073643bf8db6d217f087b0db",
            "6d36bcb286a940d38d8e8ee21ef268cb",
            "f68c4350c9ce4954bbed13dd1de78f3a",
            "bcd69741db84420b935eaad48ad431d2",
            "803e64437bbb4bb0a1db27332940ccdd",
            "e9e231c0020843ab8731d01dc666729d",
            "ed9d52d6c8d34fec989183f79e076192",
            "068c28b3020b41efb61aacf0204409e6",
            "0861556e173141caa13338cc24f64748",
            "7c3c6c63d143447e9866b54e1bd9e99a",
            "9eb9a221c6724a20a3be11df9e289a2c",
            "8722e74cbac24973980d3be84918a7ee",
            "a2e1c029ff914972911774dd3d5bf9e4",
            "275afa1e6ad6465b8d902b23e9afd786",
            "e8dd95ab37f24f009f1e906491b10d7e",
            "f1ee0476159c4aa8908fdc077ba11cb0",
            "911142cec47549bfaeddc3c0a02a8004",
            "2455525143734caa90c5594723d0550d",
            "edd37dd706f949858668476bea53d18c",
            "23f8511741504a5599ff87d590e6ce85",
            "cdcee44f9e2c4cdf973291dd1eaf4c81",
            "0469e17a27d94232b5a841f3f3f8ce4e"
          ]
        }
      },
      "source": [
        "import numpy as np\n",
        "import pandas as pd\n",
        "import nltk\n",
        "import sys\n",
        "nltk.download('punkt')\n",
        "import transformers\n",
        "import torch\n",
        "device = torch.device(\"cuda:0\" if torch.cuda.is_available() else \"cpu\")\n",
        "model=transformers.BertModel.from_pretrained('bert-base-uncased').to(device).eval()\n",
        "tokenizer=transformers.BertTokenizer.from_pretrained('bert-base-uncased')"
      ],
      "execution_count": 2,
      "outputs": [
        {
          "output_type": "stream",
          "text": [
            "[nltk_data] Downloading package punkt to /root/nltk_data...\n",
            "[nltk_data]   Unzipping tokenizers/punkt.zip.\n"
          ],
          "name": "stdout"
        },
        {
          "output_type": "display_data",
          "data": {
            "application/vnd.jupyter.widget-view+json": {
              "model_id": "055f7ddc78f34de4840358cd46378ae9",
              "version_minor": 0,
              "version_major": 2
            },
            "text/plain": [
              "HBox(children=(FloatProgress(value=0.0, description='Downloading', max=433.0, style=ProgressStyle(description_…"
            ]
          },
          "metadata": {
            "tags": []
          }
        },
        {
          "output_type": "stream",
          "text": [
            "\n"
          ],
          "name": "stdout"
        },
        {
          "output_type": "display_data",
          "data": {
            "application/vnd.jupyter.widget-view+json": {
              "model_id": "ed9d52d6c8d34fec989183f79e076192",
              "version_minor": 0,
              "version_major": 2
            },
            "text/plain": [
              "HBox(children=(FloatProgress(value=0.0, description='Downloading', max=440473133.0, style=ProgressStyle(descri…"
            ]
          },
          "metadata": {
            "tags": []
          }
        },
        {
          "output_type": "stream",
          "text": [
            "\n"
          ],
          "name": "stdout"
        },
        {
          "output_type": "display_data",
          "data": {
            "application/vnd.jupyter.widget-view+json": {
              "model_id": "e8dd95ab37f24f009f1e906491b10d7e",
              "version_minor": 0,
              "version_major": 2
            },
            "text/plain": [
              "HBox(children=(FloatProgress(value=0.0, description='Downloading', max=231508.0, style=ProgressStyle(descripti…"
            ]
          },
          "metadata": {
            "tags": []
          }
        },
        {
          "output_type": "stream",
          "text": [
            "\n"
          ],
          "name": "stdout"
        }
      ]
    },
    {
      "cell_type": "code",
      "metadata": {
        "id": "-VXpa53396bZ"
      },
      "source": [
        "from sklearn.feature_extraction.text import TfidfVectorizer\n",
        "from scipy.sparse import csr_matrix\n",
        "def get_tfidf_features(paragraphs):\n",
        "    print(\"Extracting tf-idf features\")\n",
        "    all_paragraph_features=[]\n",
        "    vectorizer = TfidfVectorizer()\n",
        "    lengths=[]\n",
        "    for paragraph in paragraphs:\n",
        "        vectorizer = TfidfVectorizer()\n",
        "        curr_features=vectorizer.fit_transform(paragraph)\n",
        "        lengths.append(len(vectorizer.get_feature_names()))\n",
        "        all_paragraph_features.append(np.array(curr_features.todense()))\n",
        "    lengths=np.array(lengths)\n",
        "    print(\"Min length of dictionary: {}\".format(np.amin(lengths)))\n",
        "    print(\"Avg length of dictionary: {}\".format(np.mean(lengths)))\n",
        "    print(\"Max length of dictionary: {}\".format(np.amax(lengths)))\n",
        "    return np.asarray(all_paragraph_features)"
      ],
      "execution_count": 3,
      "outputs": []
    },
    {
      "cell_type": "code",
      "metadata": {
        "id": "LpAOvu1Sm4dx",
        "outputId": "9db137ec-d912-4e19-e316-8642c0957686",
        "colab": {
          "base_uri": "https://localhost:8080/"
        }
      },
      "source": [
        "!wget http://nlp.stanford.edu/data/glove.6B.zip"
      ],
      "execution_count": 10,
      "outputs": [
        {
          "output_type": "stream",
          "text": [
            "--2020-11-09 15:26:46--  http://nlp.stanford.edu/data/glove.6B.zip\n",
            "Resolving nlp.stanford.edu (nlp.stanford.edu)... 171.64.67.140\n",
            "Connecting to nlp.stanford.edu (nlp.stanford.edu)|171.64.67.140|:80... connected.\n",
            "HTTP request sent, awaiting response... 302 Found\n",
            "Location: https://nlp.stanford.edu/data/glove.6B.zip [following]\n",
            "--2020-11-09 15:26:46--  https://nlp.stanford.edu/data/glove.6B.zip\n",
            "Connecting to nlp.stanford.edu (nlp.stanford.edu)|171.64.67.140|:443... connected.\n",
            "HTTP request sent, awaiting response... 301 Moved Permanently\n",
            "Location: http://downloads.cs.stanford.edu/nlp/data/glove.6B.zip [following]\n",
            "--2020-11-09 15:26:46--  http://downloads.cs.stanford.edu/nlp/data/glove.6B.zip\n",
            "Resolving downloads.cs.stanford.edu (downloads.cs.stanford.edu)... 171.64.64.22\n",
            "Connecting to downloads.cs.stanford.edu (downloads.cs.stanford.edu)|171.64.64.22|:80... connected.\n",
            "HTTP request sent, awaiting response... 200 OK\n",
            "Length: 862182613 (822M) [application/zip]\n",
            "Saving to: ‘glove.6B.zip’\n",
            "\n",
            "glove.6B.zip        100%[===================>] 822.24M  1.98MB/s    in 6m 27s  \n",
            "\n",
            "2020-11-09 15:33:13 (2.13 MB/s) - ‘glove.6B.zip’ saved [862182613/862182613]\n",
            "\n"
          ],
          "name": "stdout"
        }
      ]
    },
    {
      "cell_type": "code",
      "metadata": {
        "id": "Too3YWwLn1Gr",
        "outputId": "50bd2241-a452-4b3f-bd93-69e2f5ff06ae",
        "colab": {
          "base_uri": "https://localhost:8080/"
        }
      },
      "source": [
        "!unzip glove.6B.zip"
      ],
      "execution_count": 11,
      "outputs": [
        {
          "output_type": "stream",
          "text": [
            "Archive:  glove.6B.zip\n",
            "  inflating: glove.6B.50d.txt        \n",
            "  inflating: glove.6B.100d.txt       \n",
            "  inflating: glove.6B.200d.txt       \n",
            "  inflating: glove.6B.300d.txt       \n"
          ],
          "name": "stdout"
        }
      ]
    },
    {
      "cell_type": "code",
      "metadata": {
        "id": "9aEXqylspA-w",
        "outputId": "ed446209-07f4-4f7e-ad4c-a325e98ebaae",
        "colab": {
          "base_uri": "https://localhost:8080/"
        }
      },
      "source": [
        "!python read_glove.py"
      ],
      "execution_count": 12,
      "outputs": [
        {
          "output_type": "stream",
          "text": [
            "tcmalloc: large alloc 1105485824 bytes == 0xceef2000 @  0x7f7394ce12a4 0x591e47 0x4dd737 0x4e2b00 0x4e214a 0x4e0df8 0x4e255b 0x4e29d0 0x4e33c6 0x4544bc 0x50a25a 0x50beb4 0x507be4 0x50ad03 0x634e72 0x634f27 0x6386df 0x639281 0x4b0dc0 0x7f73948ddb97 0x5b259a\n"
          ],
          "name": "stdout"
        }
      ]
    },
    {
      "cell_type": "code",
      "metadata": {
        "id": "Uklyo0Zjfxzp"
      },
      "source": [
        "#READING GLOVE FILE\n",
        "import pickle\n",
        "word_to_index={}\n",
        "index_to_word={}\n",
        "word_to_vec_map={}\n",
        "fp= open('word_to_index.pkl', 'rb')\n",
        "word_to_index = pickle.load(fp)\n",
        "fp= open('index_to_word.pkl', 'rb')\n",
        "index_to_word = pickle.load(fp)\n",
        "fp= open('word_to_vec_map.pkl', 'rb')\n",
        "word_to_vec_map = pickle.load(fp)\n",
        "fp.close()"
      ],
      "execution_count": 14,
      "outputs": []
    },
    {
      "cell_type": "code",
      "metadata": {
        "id": "P8UijvuSqAMK",
        "outputId": "dc79deb4-3dad-49af-ccc1-65bce116fa16",
        "colab": {
          "base_uri": "https://localhost:8080/"
        }
      },
      "source": [
        "word_to_vec_map['hello'].shape"
      ],
      "execution_count": 16,
      "outputs": [
        {
          "output_type": "execute_result",
          "data": {
            "text/plain": [
              "(300,)"
            ]
          },
          "metadata": {
            "tags": []
          },
          "execution_count": 16
        }
      ]
    },
    {
      "cell_type": "code",
      "metadata": {
        "id": "DNDrU48mm0p5"
      },
      "source": [
        "embed_dimension=300\n",
        "def get_word_embedding_features(paragraphs):\n",
        "    word_embed_features=[]\n",
        "    for i,paragraph in enumerate(paragraphs):\n",
        "        sys.stdout.write(\"\\rExtracted features for {} of {}\".format(i+1,paragraphs.shape[0]))\n",
        "        sys.stdout.flush()\n",
        "        curr_embed_features=[]\n",
        "        num_sentences=len(paragraph)\n",
        "        for sentence in paragraph:\n",
        "            sentence_lower=sentence.lower()\n",
        "            sentence_words=nltk.TreebankWordTokenizer().tokenize(sentence_lower)\n",
        "            curr_vec=np.zeros((embed_dimension))\n",
        "            for w in sentence_words:\n",
        "                if w in word_to_vec_map:\n",
        "                    curr_vec+=word_to_vec_map[w]\n",
        "            curr_vec/=num_sentences\n",
        "            curr_embed_features.append(curr_vec)\n",
        "        word_embed_features.append(np.asarray(curr_embed_features))\n",
        "    return np.asarray(word_embed_features)"
      ],
      "execution_count": 28,
      "outputs": []
    },
    {
      "cell_type": "code",
      "metadata": {
        "id": "X0mKqKk196kk",
        "outputId": "abf74f14-4ffa-4886-e175-0d3417dc2487",
        "colab": {
          "base_uri": "https://localhost:8080/"
        }
      },
      "source": [
        "print(\"GPU/CPU:\",torch.cuda.get_device_name(0)) \n",
        "def bert_features(paragraph):\n",
        "    max_seq_length=500\n",
        "    batch_tokens=[]\n",
        "    longest_seq=0\n",
        "    for sentence in paragraph:\n",
        "        tokens=tokenizer.tokenize(sentence)\n",
        "        tokens_id=tokenizer.convert_tokens_to_ids(tokens)\n",
        "        longest_seq = max(longest_seq, len(tokens))\n",
        "        batch_tokens.append(tokens_id)\n",
        "    features = {}\n",
        "    pad_seq_length = min(longest_seq,max_seq_length) + 3\n",
        "    for text in batch_tokens:\n",
        "        sentence_features = tokenizer.prepare_for_model(text,max_length=pad_seq_length, pad_to_max_length=True, return_tensors='pt',truncation=True)\n",
        "        for feature_name in sentence_features:\n",
        "            if feature_name not in features:\n",
        "                features[feature_name] = []\n",
        "            features[feature_name].append(sentence_features[feature_name])\n",
        "    for feature_name in features:\n",
        "        features[feature_name] = torch.cat(features[feature_name]).to(device)\n",
        "    with torch.no_grad():\n",
        "        outputs = model(**features)\n",
        "    pooled_output = outputs[1]\n",
        "    return pooled_output\n",
        "    \n",
        "def get_bert_features(paragraphs):\n",
        "    all_paragraph_features=[]\n",
        "    for i,paragraph in enumerate(paragraphs):\n",
        "        curr_features=bert_features(paragraph)\n",
        "        sys.stdout.write(\"\\rExtracted features for {} of {}\".format(i+1,paragraphs.shape[0]))\n",
        "        sys.stdout.flush()\n",
        "        all_paragraph_features.append(curr_features)\n",
        "    return np.asarray(all_paragraph_features)"
      ],
      "execution_count": 4,
      "outputs": [
        {
          "output_type": "stream",
          "text": [
            "GPU/CPU: Tesla T4\n"
          ],
          "name": "stdout"
        }
      ]
    },
    {
      "cell_type": "code",
      "metadata": {
        "id": "N-9t_DxEGsgI"
      },
      "source": [
        "from nltk.cluster.util import cosine_distance\n",
        "def build_similarity_matrix(paragraph_features,is_tensor):\n",
        "    if is_tensor:\n",
        "        paragraph_features=paragraph_features.cpu().numpy()\n",
        "    num_sentences=paragraph_features.shape[0]\n",
        "    similarity_matrix = np.zeros((num_sentences, num_sentences))\n",
        "    for idx1 in range(num_sentences):\n",
        "        for idx2 in range(num_sentences):\n",
        "            if idx1 == idx2: #ignore if both are same sentences\n",
        "                continue \n",
        "            similarity_matrix[idx1][idx2] = 1-cosine_distance(paragraph_features[idx1],paragraph_features[idx2])\n",
        "    return similarity_matrix\n",
        "\n",
        "import networkx as nx\n",
        "def generate_summaries(paragraphs,features_paragraphs,is_tensor=False):\n",
        "    text_summaries=[]\n",
        "    cnt=0\n",
        "    for i,paragraph_features in enumerate(features_paragraphs):\n",
        "        sys.stdout.write(\"\\rGenerating summary for {} of {}\".format(i+1,paragraphs.shape[0]))\n",
        "        sys.stdout.flush()\n",
        "        similarity_matrix=build_similarity_matrix(paragraph_features,is_tensor)\n",
        "        sentence_similarity_graph = nx.from_numpy_array(similarity_matrix)\n",
        "        try:\n",
        "            scores = nx.pagerank(sentence_similarity_graph,max_iter=100)\n",
        "            ranked_sentence = sorted(((scores[j],j) for j,s in enumerate(paragraphs[i])), reverse=True)    \n",
        "            top_n=3\n",
        "            summary_indices=[]\n",
        "            for j in range(top_n):\n",
        "                summary_indices.append(ranked_sentence[j][1])\n",
        "            out=np.array(paragraphs[i])\n",
        "            out_indices=sorted(summary_indices)\n",
        "            text_summaries.append((\"\".join(out),\"\".join(out[out_indices]),similarity_matrix))\n",
        "        except:\n",
        "            cnt+=1\n",
        "    print(\"Pagerank didn't converge for {} paragraphs\".format(cnt))\n",
        "    return text_summaries"
      ],
      "execution_count": 5,
      "outputs": []
    },
    {
      "cell_type": "code",
      "metadata": {
        "id": "4XmTnPt596ud",
        "outputId": "81d71c62-5784-487c-eb17-913477aab906",
        "colab": {
          "base_uri": "https://localhost:8080/"
        }
      },
      "source": [
        "#DATASET-1\n",
        "#Loading and cleaning\n",
        "data=pd.read_csv('news_summary.csv',encoding='iso-8859-1')\n",
        "data_paragraphs=data['ctext']\n",
        "all_paragraphs=[]\n",
        "cnt=0\n",
        "for paragraph in data_paragraphs:\n",
        "    try:\n",
        "        all_paragraphs.append(nltk.sent_tokenize(paragraph))\n",
        "    except:\n",
        "        cnt+=1\n",
        "print(\"{} paragraphs omitted\".format(cnt))\n",
        "all_paragraphs=np.array(all_paragraphs)\n",
        "print(\"{} paragraphs parsed\".format(all_paragraphs.shape[0]))\n",
        "lengths=[]\n",
        "min_thres=3\n",
        "max_thres=35\n",
        "paragraphs=[]\n",
        "for paragraph in all_paragraphs:\n",
        "    curr_len=len(paragraph)\n",
        "    if curr_len>=min_thres and curr_len<=max_thres:\n",
        "        paragraphs.append(paragraph)\n",
        "print(\"{} paragraphs in dataset after applying length constraint\".format(len(paragraphs)))\n",
        "paragraphs=np.array(paragraphs)"
      ],
      "execution_count": 7,
      "outputs": [
        {
          "output_type": "stream",
          "text": [
            "118 paragraphs omitted\n",
            "4396 paragraphs parsed\n",
            "3878 paragraphs in dataset after applying length constraint\n"
          ],
          "name": "stdout"
        }
      ]
    },
    {
      "cell_type": "code",
      "metadata": {
        "id": "pUMgOgEW96zd",
        "outputId": "947d0df8-f1f6-4a01-f3f0-59fc41c1af6d",
        "colab": {
          "base_uri": "https://localhost:8080/"
        }
      },
      "source": [
        "#Visualizing\n",
        "for paragraph in paragraphs:\n",
        "    if len(paragraph)==min_thres:\n",
        "        print(paragraph)\n",
        "        break\n",
        "print(\"\\n\")\n",
        "for paragraph in paragraphs:\n",
        "    if len(paragraph)==max_thres:\n",
        "        print(paragraph)\n",
        "        break"
      ],
      "execution_count": 9,
      "outputs": [
        {
          "output_type": "stream",
          "text": [
            "['President Donald Trump?s son-in-law says the Trump campaign couldn?t have colluded with Russia because the team was too dysfunctional and disorganised to coordinate with a foreign government.Jared Kushner, a senior adviser to the president, made the comment Monday during a closed-door session with congressional interns.A Democratic congressional aide says Kushner was responding to a question about Special Counsel Robert Mueller?s investigation into whether the Trump campaign colluded with Moscow.ForeignPolicy.com first reported Kushner?s remarks.', 'The aide was knowledgeable of the meeting and confirmed the accuracy of the comments.Last week, Kushner met privately at the Capitol with members of the Senate and House intelligence committees.He acknowledged four meetings with Russians during and after Trump?s victorious White House bid and insisted that he had ?nothing to hide.', '?']\n",
            "\n",
            "\n",
            "['It took him five years and lot of courage to openly speak about his battle with drug addiction.', 'After making a promising start in Bollywood, Prateik Babbar vanished from the limelight for a good five years.', \"His absence might not have caught anybody's attention, but his return has grabbed many eyeballs.\", 'And why not?', 'For the first time, the 30-year-old actor has openly spoken about his battle with substance abuse.', 'When many actors shy away from talking about their issues, Prateik has come out in the open, talking about his his long battle with addiction.', 'In an interview to Mumbai Mirror, the actor talked about addiction, recovery and his career.', 'This is what he said.', 'On addiction He has come to terms with complications of his life and has fought the demons of substance abuse.', 'It was last year when he first talked about his drug addiction, and in the last one year, he has been a \"work in progress\".', '\"Addiction is not a moral failing, it does not make you a bad person even if you have made a poor choice.', \"People still think I got hooked because it was 'cool' for a celebrity to indulge in recreational drugs.\", 'But for me, it was more of an escape from reality.', 'My childhood was complicated and there were a lot of questions I didn\\'t have answers to so I looked elsewhere for solace,\" said Prateik.', 'On acceptanceIt took him a while to understand that he was an addict, and he needed to get out of it as soon as possible.', '\"Acceptance and speaking up can help change the face of addiction.', 'It educates those who are ailing and tells others that the stereotype of people suffering is the exception rather than the rule.', 'Acceptance is one of the first steps to recovery,\" added the actor.', \"On coming outPrateik came out in open about his addiction as he didn't want to keep his fans in the dark.\", 'He wanted them to be aware of the dark truth of his life.', '\"I\\'m a fighter and criticism is not an option for me.', \"Yes, one is entitled to his/her opinion and it's human to be judgmental but everyone deserves a second chance.\", 'The idea is to move on.', 'I want to create awareness by showcasing the boy uninterrupted so the world doesn\\'t get to see just one side of the story,\" said the 30-year-old actor.', 'On recoveryIt has taken him a few years to get back to his normal life and he says that with each passing day, he is making an effort to better his life.', 'He said, \"I\\'m still on the road to recovery but I\\'m proud to have turned over a new leaf.', 'Substance abuse is like a bad marriage, even after you quit, it haunts you for a while till people start noticing the turnaround.', \"I'm answerable to only my conscience.\", \"And yes, people take me more seriously now that I'm no longer the hippie rave but someone committed to fitness, auditions and family.\", '\"On his careerHe began his career with the 2008 film Jaane Tu...', 'Ya Jaane Na, and went onto bag a few promising roles in the subsequent years.', \"However, it's been almost five years since Prateik has been seen on the big screen.\", 'But the actor is all set to bounce back.', '\"I\\'m looking for quality work and am not embarrassed to go out and ask for it.', 'I\\'m also doing a lot of theatre with Jeff Goldberg because I believe it polishes your acting skills,\" he added.']\n"
          ],
          "name": "stdout"
        }
      ]
    },
    {
      "cell_type": "code",
      "metadata": {
        "id": "7JURGVQbMF4L"
      },
      "source": [
        "#TF-IDF FEATURES AND SUMMARIES"
      ],
      "execution_count": 18,
      "outputs": []
    },
    {
      "cell_type": "code",
      "metadata": {
        "id": "MJABfUFvMJi5",
        "outputId": "770eda8e-0e37-4723-a815-54a19765dd80",
        "colab": {
          "base_uri": "https://localhost:8080/"
        }
      },
      "source": [
        "features_tfidf=get_tfidf_features(paragraphs)"
      ],
      "execution_count": 19,
      "outputs": [
        {
          "output_type": "stream",
          "text": [
            "Extracting tf-idf features\n",
            "Min length of dictionary: 34\n",
            "Avg length of dictionary: 170.2885507993811\n",
            "Max length of dictionary: 538\n"
          ],
          "name": "stdout"
        }
      ]
    },
    {
      "cell_type": "code",
      "metadata": {
        "id": "b_uRyblKMJpl",
        "outputId": "daf7191f-b0a7-4c9f-e1b9-f6427d6758ea",
        "colab": {
          "base_uri": "https://localhost:8080/"
        }
      },
      "source": [
        "tfidf_summaries=generate_summaries(paragraphs,features_tfidf)"
      ],
      "execution_count": 20,
      "outputs": [
        {
          "output_type": "stream",
          "text": [
            "Generating summary for 20 of 3878"
          ],
          "name": "stdout"
        },
        {
          "output_type": "stream",
          "text": [
            "/usr/local/lib/python3.6/dist-packages/nltk/cluster/util.py:133: RuntimeWarning: invalid value encountered in double_scalars\n",
            "  sqrt(numpy.dot(u, u)) * sqrt(numpy.dot(v, v))))\n"
          ],
          "name": "stderr"
        },
        {
          "output_type": "stream",
          "text": [
            "Generating summary for 3878 of 3878Pagerank didn't converge for 218 paragraphs\n"
          ],
          "name": "stdout"
        }
      ]
    },
    {
      "cell_type": "code",
      "metadata": {
        "id": "3NYqFBalv6qD"
      },
      "source": [
        "###GloVe embedding FEATURES AND SUMMARIES"
      ],
      "execution_count": null,
      "outputs": []
    },
    {
      "cell_type": "code",
      "metadata": {
        "id": "8MNT_EnMv-tV",
        "outputId": "6898f864-a508-4223-e0a0-1793943fbff9",
        "colab": {
          "base_uri": "https://localhost:8080/"
        }
      },
      "source": [
        "features_glove=get_word_embedding_features(paragraphs)"
      ],
      "execution_count": 29,
      "outputs": [
        {
          "output_type": "stream",
          "text": [
            "Extracted features for 3878 of 3878"
          ],
          "name": "stdout"
        }
      ]
    },
    {
      "cell_type": "code",
      "metadata": {
        "id": "CoRHKD8KwKig",
        "outputId": "7d48256c-1d71-4273-8669-6d72d310e514",
        "colab": {
          "base_uri": "https://localhost:8080/"
        }
      },
      "source": [
        "glove_summaries=generate_summaries(paragraphs,features_glove)"
      ],
      "execution_count": 35,
      "outputs": [
        {
          "output_type": "stream",
          "text": [
            "Generating summary for 932 of 3878"
          ],
          "name": "stdout"
        },
        {
          "output_type": "stream",
          "text": [
            "/usr/local/lib/python3.6/dist-packages/nltk/cluster/util.py:133: RuntimeWarning: invalid value encountered in double_scalars\n",
            "  sqrt(numpy.dot(u, u)) * sqrt(numpy.dot(v, v))))\n"
          ],
          "name": "stderr"
        },
        {
          "output_type": "stream",
          "text": [
            "Generating summary for 3878 of 3878Pagerank didn't converge for 11 paragraphs\n"
          ],
          "name": "stdout"
        }
      ]
    },
    {
      "cell_type": "code",
      "metadata": {
        "id": "1nnsvIk_EMCa"
      },
      "source": [
        "###BERT FEATURES AND SUMMARIES"
      ],
      "execution_count": 21,
      "outputs": []
    },
    {
      "cell_type": "code",
      "metadata": {
        "id": "RqUw3cUt96xk",
        "outputId": "35805142-a133-4d87-90c0-52000adbb187",
        "colab": {
          "base_uri": "https://localhost:8080/"
        }
      },
      "source": [
        "features_bert=get_bert_features(paragraphs)"
      ],
      "execution_count": 22,
      "outputs": [
        {
          "output_type": "stream",
          "text": [
            "Extracted features for 3878 of 3878"
          ],
          "name": "stdout"
        }
      ]
    },
    {
      "cell_type": "code",
      "metadata": {
        "id": "r8t6glra96sP",
        "outputId": "09b482b4-b299-424f-f01c-e48f3c5aa3e4",
        "colab": {
          "base_uri": "https://localhost:8080/"
        }
      },
      "source": [
        "bert_summaries=generate_summaries(paragraphs,features_bert,is_tensor=True)"
      ],
      "execution_count": 23,
      "outputs": [
        {
          "output_type": "stream",
          "text": [
            "Generating summary for 3878 of 3878Pagerank didn't converge for 37 paragraphs\n"
          ],
          "name": "stdout"
        }
      ]
    },
    {
      "cell_type": "code",
      "metadata": {
        "id": "9WgJsnbH96ow"
      },
      "source": [
        "###ANALYSIS"
      ],
      "execution_count": null,
      "outputs": []
    },
    {
      "cell_type": "code",
      "metadata": {
        "id": "nYUH78ggRLhQ",
        "outputId": "d646cc26-f7e2-4837-af3d-9aae0054d406",
        "colab": {
          "base_uri": "https://localhost:8080/"
        }
      },
      "source": [
        "bert_summaries[27][:2]"
      ],
      "execution_count": 24,
      "outputs": [
        {
          "output_type": "execute_result",
          "data": {
            "text/plain": [
              "('The remains of a German hiker who disappeared while climbing in the Swiss Alps 30 years ago has been found embedded in a glacier, police said on Wednesday.The find was made on July 25 by two people climbing the Lagginhorn mountain, in southern Switzerland, police said in a statement.A few hundred metres before reaching the peak, the hikers spotted ?a hand and two shoes?, area police said.Extracting the remains that day was impossible because of poor weather, but rescue workers arrived by helicopter the following day, removed the remains from the ice and brought them to a hospital in the capital Bern for identification.Test have confirmed the climber was a German national born in 1943 who disappeared on August 11, 1987.The discovery came just two days after a Swiss couple who disappeared while walking in the Alps in 1942 were found in a receding glacier.',\n",
              " 'The find was made on July 25 by two people climbing the Lagginhorn mountain, in southern Switzerland, police said in a statement.Extracting the remains that day was impossible because of poor weather, but rescue workers arrived by helicopter the following day, removed the remains from the ice and brought them to a hospital in the capital Bern for identification.The discovery came just two days after a Swiss couple who disappeared while walking in the Alps in 1942 were found in a receding glacier.')"
            ]
          },
          "metadata": {
            "tags": []
          },
          "execution_count": 24
        }
      ]
    },
    {
      "cell_type": "code",
      "metadata": {
        "id": "Twj3Gjo3RRIo",
        "outputId": "98b4117d-9bbf-44bb-e2c8-ce5beb0bd2e4",
        "colab": {
          "base_uri": "https://localhost:8080/"
        }
      },
      "source": [
        "tfidf_summaries[25][:2]"
      ],
      "execution_count": 25,
      "outputs": [
        {
          "output_type": "execute_result",
          "data": {
            "text/plain": [
              "('The remains of a German hiker who disappeared while climbing in the Swiss Alps 30 years ago has been found embedded in a glacier, police said on Wednesday.The find was made on July 25 by two people climbing the Lagginhorn mountain, in southern Switzerland, police said in a statement.A few hundred metres before reaching the peak, the hikers spotted ?a hand and two shoes?, area police said.Extracting the remains that day was impossible because of poor weather, but rescue workers arrived by helicopter the following day, removed the remains from the ice and brought them to a hospital in the capital Bern for identification.Test have confirmed the climber was a German national born in 1943 who disappeared on August 11, 1987.The discovery came just two days after a Swiss couple who disappeared while walking in the Alps in 1942 were found in a receding glacier.',\n",
              " 'The remains of a German hiker who disappeared while climbing in the Swiss Alps 30 years ago has been found embedded in a glacier, police said on Wednesday.The find was made on July 25 by two people climbing the Lagginhorn mountain, in southern Switzerland, police said in a statement.The discovery came just two days after a Swiss couple who disappeared while walking in the Alps in 1942 were found in a receding glacier.')"
            ]
          },
          "metadata": {
            "tags": []
          },
          "execution_count": 25
        }
      ]
    },
    {
      "cell_type": "code",
      "metadata": {
        "id": "dqFx24gySZxD",
        "outputId": "696c6782-7313-47d9-a58e-d78725235e65",
        "colab": {
          "base_uri": "https://localhost:8080/"
        }
      },
      "source": [
        "glove_summaries[27][:2]"
      ],
      "execution_count": 39,
      "outputs": [
        {
          "output_type": "execute_result",
          "data": {
            "text/plain": [
              "('The remains of a German hiker who disappeared while climbing in the Swiss Alps 30 years ago has been found embedded in a glacier, police said on Wednesday.The find was made on July 25 by two people climbing the Lagginhorn mountain, in southern Switzerland, police said in a statement.A few hundred metres before reaching the peak, the hikers spotted ?a hand and two shoes?, area police said.Extracting the remains that day was impossible because of poor weather, but rescue workers arrived by helicopter the following day, removed the remains from the ice and brought them to a hospital in the capital Bern for identification.Test have confirmed the climber was a German national born in 1943 who disappeared on August 11, 1987.The discovery came just two days after a Swiss couple who disappeared while walking in the Alps in 1942 were found in a receding glacier.',\n",
              " 'The remains of a German hiker who disappeared while climbing in the Swiss Alps 30 years ago has been found embedded in a glacier, police said on Wednesday.The find was made on July 25 by two people climbing the Lagginhorn mountain, in southern Switzerland, police said in a statement.The discovery came just two days after a Swiss couple who disappeared while walking in the Alps in 1942 were found in a receding glacier.')"
            ]
          },
          "metadata": {
            "tags": []
          },
          "execution_count": 39
        }
      ]
    },
    {
      "cell_type": "code",
      "metadata": {
        "id": "50WrCsWDxHW7"
      },
      "source": [
        ""
      ],
      "execution_count": null,
      "outputs": []
    }
  ]
}