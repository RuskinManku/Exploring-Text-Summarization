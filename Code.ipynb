{
  "nbformat": 4,
  "nbformat_minor": 0,
  "metadata": {
    "colab": {
      "name": "Untitled2.ipynb",
      "provenance": [],
      "collapsed_sections": []
    },
    "kernelspec": {
      "name": "python3",
      "display_name": "Python 3"
    },
    "accelerator": "GPU",
    "widgets": {
      "application/vnd.jupyter.widget-state+json": {
        "3928d6f157cc4bf5bf015db7cda53893": {
          "model_module": "@jupyter-widgets/controls",
          "model_name": "HBoxModel",
          "state": {
            "_view_name": "HBoxView",
            "_dom_classes": [],
            "_model_name": "HBoxModel",
            "_view_module": "@jupyter-widgets/controls",
            "_model_module_version": "1.5.0",
            "_view_count": null,
            "_view_module_version": "1.5.0",
            "box_style": "",
            "layout": "IPY_MODEL_c53395d1665f4c98a60990c8daef87d8",
            "_model_module": "@jupyter-widgets/controls",
            "children": [
              "IPY_MODEL_4dc2dd07d30946e6bddb40da1c32b647",
              "IPY_MODEL_1ce2a02f42304a6fabea2b6a85aeed96"
            ]
          }
        },
        "c53395d1665f4c98a60990c8daef87d8": {
          "model_module": "@jupyter-widgets/base",
          "model_name": "LayoutModel",
          "state": {
            "_view_name": "LayoutView",
            "grid_template_rows": null,
            "right": null,
            "justify_content": null,
            "_view_module": "@jupyter-widgets/base",
            "overflow": null,
            "_model_module_version": "1.2.0",
            "_view_count": null,
            "flex_flow": null,
            "width": null,
            "min_width": null,
            "border": null,
            "align_items": null,
            "bottom": null,
            "_model_module": "@jupyter-widgets/base",
            "top": null,
            "grid_column": null,
            "overflow_y": null,
            "overflow_x": null,
            "grid_auto_flow": null,
            "grid_area": null,
            "grid_template_columns": null,
            "flex": null,
            "_model_name": "LayoutModel",
            "justify_items": null,
            "grid_row": null,
            "max_height": null,
            "align_content": null,
            "visibility": null,
            "align_self": null,
            "height": null,
            "min_height": null,
            "padding": null,
            "grid_auto_rows": null,
            "grid_gap": null,
            "max_width": null,
            "order": null,
            "_view_module_version": "1.2.0",
            "grid_template_areas": null,
            "object_position": null,
            "object_fit": null,
            "grid_auto_columns": null,
            "margin": null,
            "display": null,
            "left": null
          }
        },
        "4dc2dd07d30946e6bddb40da1c32b647": {
          "model_module": "@jupyter-widgets/controls",
          "model_name": "FloatProgressModel",
          "state": {
            "_view_name": "ProgressView",
            "style": "IPY_MODEL_8201c58eadf74dfcb024c8faf989c189",
            "_dom_classes": [],
            "description": "Downloading: 100%",
            "_model_name": "FloatProgressModel",
            "bar_style": "success",
            "max": 433,
            "_view_module": "@jupyter-widgets/controls",
            "_model_module_version": "1.5.0",
            "value": 433,
            "_view_count": null,
            "_view_module_version": "1.5.0",
            "orientation": "horizontal",
            "min": 0,
            "description_tooltip": null,
            "_model_module": "@jupyter-widgets/controls",
            "layout": "IPY_MODEL_0d1f8d7f48784e96a6b021e3695757e1"
          }
        },
        "1ce2a02f42304a6fabea2b6a85aeed96": {
          "model_module": "@jupyter-widgets/controls",
          "model_name": "HTMLModel",
          "state": {
            "_view_name": "HTMLView",
            "style": "IPY_MODEL_6aa3c89046754d04b32a08c341ceddb0",
            "_dom_classes": [],
            "description": "",
            "_model_name": "HTMLModel",
            "placeholder": "​",
            "_view_module": "@jupyter-widgets/controls",
            "_model_module_version": "1.5.0",
            "value": " 433/433 [00:52&lt;00:00, 8.27B/s]",
            "_view_count": null,
            "_view_module_version": "1.5.0",
            "description_tooltip": null,
            "_model_module": "@jupyter-widgets/controls",
            "layout": "IPY_MODEL_60c39cb1bf82403b87839279047104da"
          }
        },
        "8201c58eadf74dfcb024c8faf989c189": {
          "model_module": "@jupyter-widgets/controls",
          "model_name": "ProgressStyleModel",
          "state": {
            "_view_name": "StyleView",
            "_model_name": "ProgressStyleModel",
            "description_width": "initial",
            "_view_module": "@jupyter-widgets/base",
            "_model_module_version": "1.5.0",
            "_view_count": null,
            "_view_module_version": "1.2.0",
            "bar_color": null,
            "_model_module": "@jupyter-widgets/controls"
          }
        },
        "0d1f8d7f48784e96a6b021e3695757e1": {
          "model_module": "@jupyter-widgets/base",
          "model_name": "LayoutModel",
          "state": {
            "_view_name": "LayoutView",
            "grid_template_rows": null,
            "right": null,
            "justify_content": null,
            "_view_module": "@jupyter-widgets/base",
            "overflow": null,
            "_model_module_version": "1.2.0",
            "_view_count": null,
            "flex_flow": null,
            "width": null,
            "min_width": null,
            "border": null,
            "align_items": null,
            "bottom": null,
            "_model_module": "@jupyter-widgets/base",
            "top": null,
            "grid_column": null,
            "overflow_y": null,
            "overflow_x": null,
            "grid_auto_flow": null,
            "grid_area": null,
            "grid_template_columns": null,
            "flex": null,
            "_model_name": "LayoutModel",
            "justify_items": null,
            "grid_row": null,
            "max_height": null,
            "align_content": null,
            "visibility": null,
            "align_self": null,
            "height": null,
            "min_height": null,
            "padding": null,
            "grid_auto_rows": null,
            "grid_gap": null,
            "max_width": null,
            "order": null,
            "_view_module_version": "1.2.0",
            "grid_template_areas": null,
            "object_position": null,
            "object_fit": null,
            "grid_auto_columns": null,
            "margin": null,
            "display": null,
            "left": null
          }
        },
        "6aa3c89046754d04b32a08c341ceddb0": {
          "model_module": "@jupyter-widgets/controls",
          "model_name": "DescriptionStyleModel",
          "state": {
            "_view_name": "StyleView",
            "_model_name": "DescriptionStyleModel",
            "description_width": "",
            "_view_module": "@jupyter-widgets/base",
            "_model_module_version": "1.5.0",
            "_view_count": null,
            "_view_module_version": "1.2.0",
            "_model_module": "@jupyter-widgets/controls"
          }
        },
        "60c39cb1bf82403b87839279047104da": {
          "model_module": "@jupyter-widgets/base",
          "model_name": "LayoutModel",
          "state": {
            "_view_name": "LayoutView",
            "grid_template_rows": null,
            "right": null,
            "justify_content": null,
            "_view_module": "@jupyter-widgets/base",
            "overflow": null,
            "_model_module_version": "1.2.0",
            "_view_count": null,
            "flex_flow": null,
            "width": null,
            "min_width": null,
            "border": null,
            "align_items": null,
            "bottom": null,
            "_model_module": "@jupyter-widgets/base",
            "top": null,
            "grid_column": null,
            "overflow_y": null,
            "overflow_x": null,
            "grid_auto_flow": null,
            "grid_area": null,
            "grid_template_columns": null,
            "flex": null,
            "_model_name": "LayoutModel",
            "justify_items": null,
            "grid_row": null,
            "max_height": null,
            "align_content": null,
            "visibility": null,
            "align_self": null,
            "height": null,
            "min_height": null,
            "padding": null,
            "grid_auto_rows": null,
            "grid_gap": null,
            "max_width": null,
            "order": null,
            "_view_module_version": "1.2.0",
            "grid_template_areas": null,
            "object_position": null,
            "object_fit": null,
            "grid_auto_columns": null,
            "margin": null,
            "display": null,
            "left": null
          }
        },
        "d87b1d39c0974e9b92ed50035ba4a9dc": {
          "model_module": "@jupyter-widgets/controls",
          "model_name": "HBoxModel",
          "state": {
            "_view_name": "HBoxView",
            "_dom_classes": [],
            "_model_name": "HBoxModel",
            "_view_module": "@jupyter-widgets/controls",
            "_model_module_version": "1.5.0",
            "_view_count": null,
            "_view_module_version": "1.5.0",
            "box_style": "",
            "layout": "IPY_MODEL_e1bf6818546c4fabb9194d7be2d85fb1",
            "_model_module": "@jupyter-widgets/controls",
            "children": [
              "IPY_MODEL_18415e6231494c8ab78adb71e32c4ce6",
              "IPY_MODEL_b7091aaf18c84d6baa283f27f5c2ffd3"
            ]
          }
        },
        "e1bf6818546c4fabb9194d7be2d85fb1": {
          "model_module": "@jupyter-widgets/base",
          "model_name": "LayoutModel",
          "state": {
            "_view_name": "LayoutView",
            "grid_template_rows": null,
            "right": null,
            "justify_content": null,
            "_view_module": "@jupyter-widgets/base",
            "overflow": null,
            "_model_module_version": "1.2.0",
            "_view_count": null,
            "flex_flow": null,
            "width": null,
            "min_width": null,
            "border": null,
            "align_items": null,
            "bottom": null,
            "_model_module": "@jupyter-widgets/base",
            "top": null,
            "grid_column": null,
            "overflow_y": null,
            "overflow_x": null,
            "grid_auto_flow": null,
            "grid_area": null,
            "grid_template_columns": null,
            "flex": null,
            "_model_name": "LayoutModel",
            "justify_items": null,
            "grid_row": null,
            "max_height": null,
            "align_content": null,
            "visibility": null,
            "align_self": null,
            "height": null,
            "min_height": null,
            "padding": null,
            "grid_auto_rows": null,
            "grid_gap": null,
            "max_width": null,
            "order": null,
            "_view_module_version": "1.2.0",
            "grid_template_areas": null,
            "object_position": null,
            "object_fit": null,
            "grid_auto_columns": null,
            "margin": null,
            "display": null,
            "left": null
          }
        },
        "18415e6231494c8ab78adb71e32c4ce6": {
          "model_module": "@jupyter-widgets/controls",
          "model_name": "FloatProgressModel",
          "state": {
            "_view_name": "ProgressView",
            "style": "IPY_MODEL_685c68606e2f4e21aa32dcf1caa63b7a",
            "_dom_classes": [],
            "description": "Downloading: 100%",
            "_model_name": "FloatProgressModel",
            "bar_style": "success",
            "max": 440473133,
            "_view_module": "@jupyter-widgets/controls",
            "_model_module_version": "1.5.0",
            "value": 440473133,
            "_view_count": null,
            "_view_module_version": "1.5.0",
            "orientation": "horizontal",
            "min": 0,
            "description_tooltip": null,
            "_model_module": "@jupyter-widgets/controls",
            "layout": "IPY_MODEL_ff35fb62be664ff984bbd458c6580299"
          }
        },
        "b7091aaf18c84d6baa283f27f5c2ffd3": {
          "model_module": "@jupyter-widgets/controls",
          "model_name": "HTMLModel",
          "state": {
            "_view_name": "HTMLView",
            "style": "IPY_MODEL_17a40c9cdd8e494fb3a7674c774fb075",
            "_dom_classes": [],
            "description": "",
            "_model_name": "HTMLModel",
            "placeholder": "​",
            "_view_module": "@jupyter-widgets/controls",
            "_model_module_version": "1.5.0",
            "value": " 440M/440M [00:35&lt;00:00, 12.5MB/s]",
            "_view_count": null,
            "_view_module_version": "1.5.0",
            "description_tooltip": null,
            "_model_module": "@jupyter-widgets/controls",
            "layout": "IPY_MODEL_1199ae3857b540e89d4143f1279ca4cf"
          }
        },
        "685c68606e2f4e21aa32dcf1caa63b7a": {
          "model_module": "@jupyter-widgets/controls",
          "model_name": "ProgressStyleModel",
          "state": {
            "_view_name": "StyleView",
            "_model_name": "ProgressStyleModel",
            "description_width": "initial",
            "_view_module": "@jupyter-widgets/base",
            "_model_module_version": "1.5.0",
            "_view_count": null,
            "_view_module_version": "1.2.0",
            "bar_color": null,
            "_model_module": "@jupyter-widgets/controls"
          }
        },
        "ff35fb62be664ff984bbd458c6580299": {
          "model_module": "@jupyter-widgets/base",
          "model_name": "LayoutModel",
          "state": {
            "_view_name": "LayoutView",
            "grid_template_rows": null,
            "right": null,
            "justify_content": null,
            "_view_module": "@jupyter-widgets/base",
            "overflow": null,
            "_model_module_version": "1.2.0",
            "_view_count": null,
            "flex_flow": null,
            "width": null,
            "min_width": null,
            "border": null,
            "align_items": null,
            "bottom": null,
            "_model_module": "@jupyter-widgets/base",
            "top": null,
            "grid_column": null,
            "overflow_y": null,
            "overflow_x": null,
            "grid_auto_flow": null,
            "grid_area": null,
            "grid_template_columns": null,
            "flex": null,
            "_model_name": "LayoutModel",
            "justify_items": null,
            "grid_row": null,
            "max_height": null,
            "align_content": null,
            "visibility": null,
            "align_self": null,
            "height": null,
            "min_height": null,
            "padding": null,
            "grid_auto_rows": null,
            "grid_gap": null,
            "max_width": null,
            "order": null,
            "_view_module_version": "1.2.0",
            "grid_template_areas": null,
            "object_position": null,
            "object_fit": null,
            "grid_auto_columns": null,
            "margin": null,
            "display": null,
            "left": null
          }
        },
        "17a40c9cdd8e494fb3a7674c774fb075": {
          "model_module": "@jupyter-widgets/controls",
          "model_name": "DescriptionStyleModel",
          "state": {
            "_view_name": "StyleView",
            "_model_name": "DescriptionStyleModel",
            "description_width": "",
            "_view_module": "@jupyter-widgets/base",
            "_model_module_version": "1.5.0",
            "_view_count": null,
            "_view_module_version": "1.2.0",
            "_model_module": "@jupyter-widgets/controls"
          }
        },
        "1199ae3857b540e89d4143f1279ca4cf": {
          "model_module": "@jupyter-widgets/base",
          "model_name": "LayoutModel",
          "state": {
            "_view_name": "LayoutView",
            "grid_template_rows": null,
            "right": null,
            "justify_content": null,
            "_view_module": "@jupyter-widgets/base",
            "overflow": null,
            "_model_module_version": "1.2.0",
            "_view_count": null,
            "flex_flow": null,
            "width": null,
            "min_width": null,
            "border": null,
            "align_items": null,
            "bottom": null,
            "_model_module": "@jupyter-widgets/base",
            "top": null,
            "grid_column": null,
            "overflow_y": null,
            "overflow_x": null,
            "grid_auto_flow": null,
            "grid_area": null,
            "grid_template_columns": null,
            "flex": null,
            "_model_name": "LayoutModel",
            "justify_items": null,
            "grid_row": null,
            "max_height": null,
            "align_content": null,
            "visibility": null,
            "align_self": null,
            "height": null,
            "min_height": null,
            "padding": null,
            "grid_auto_rows": null,
            "grid_gap": null,
            "max_width": null,
            "order": null,
            "_view_module_version": "1.2.0",
            "grid_template_areas": null,
            "object_position": null,
            "object_fit": null,
            "grid_auto_columns": null,
            "margin": null,
            "display": null,
            "left": null
          }
        },
        "64efcd4c62de465296118e598c6e0ccf": {
          "model_module": "@jupyter-widgets/controls",
          "model_name": "HBoxModel",
          "state": {
            "_view_name": "HBoxView",
            "_dom_classes": [],
            "_model_name": "HBoxModel",
            "_view_module": "@jupyter-widgets/controls",
            "_model_module_version": "1.5.0",
            "_view_count": null,
            "_view_module_version": "1.5.0",
            "box_style": "",
            "layout": "IPY_MODEL_6d33247fb7f2484886c258c2666492c8",
            "_model_module": "@jupyter-widgets/controls",
            "children": [
              "IPY_MODEL_1d7cb4949d5c423dafafbf3e85cb2612",
              "IPY_MODEL_f7c5358f5d0b4febba4bdc0c3b43fe32"
            ]
          }
        },
        "6d33247fb7f2484886c258c2666492c8": {
          "model_module": "@jupyter-widgets/base",
          "model_name": "LayoutModel",
          "state": {
            "_view_name": "LayoutView",
            "grid_template_rows": null,
            "right": null,
            "justify_content": null,
            "_view_module": "@jupyter-widgets/base",
            "overflow": null,
            "_model_module_version": "1.2.0",
            "_view_count": null,
            "flex_flow": null,
            "width": null,
            "min_width": null,
            "border": null,
            "align_items": null,
            "bottom": null,
            "_model_module": "@jupyter-widgets/base",
            "top": null,
            "grid_column": null,
            "overflow_y": null,
            "overflow_x": null,
            "grid_auto_flow": null,
            "grid_area": null,
            "grid_template_columns": null,
            "flex": null,
            "_model_name": "LayoutModel",
            "justify_items": null,
            "grid_row": null,
            "max_height": null,
            "align_content": null,
            "visibility": null,
            "align_self": null,
            "height": null,
            "min_height": null,
            "padding": null,
            "grid_auto_rows": null,
            "grid_gap": null,
            "max_width": null,
            "order": null,
            "_view_module_version": "1.2.0",
            "grid_template_areas": null,
            "object_position": null,
            "object_fit": null,
            "grid_auto_columns": null,
            "margin": null,
            "display": null,
            "left": null
          }
        },
        "1d7cb4949d5c423dafafbf3e85cb2612": {
          "model_module": "@jupyter-widgets/controls",
          "model_name": "FloatProgressModel",
          "state": {
            "_view_name": "ProgressView",
            "style": "IPY_MODEL_95362f3a737f4b5c9baa899ad8a7b916",
            "_dom_classes": [],
            "description": "Downloading: 100%",
            "_model_name": "FloatProgressModel",
            "bar_style": "success",
            "max": 231508,
            "_view_module": "@jupyter-widgets/controls",
            "_model_module_version": "1.5.0",
            "value": 231508,
            "_view_count": null,
            "_view_module_version": "1.5.0",
            "orientation": "horizontal",
            "min": 0,
            "description_tooltip": null,
            "_model_module": "@jupyter-widgets/controls",
            "layout": "IPY_MODEL_75d84a10405046ce901f8dc7746451a3"
          }
        },
        "f7c5358f5d0b4febba4bdc0c3b43fe32": {
          "model_module": "@jupyter-widgets/controls",
          "model_name": "HTMLModel",
          "state": {
            "_view_name": "HTMLView",
            "style": "IPY_MODEL_40ef0b2f8a6148e3a3991914d508511f",
            "_dom_classes": [],
            "description": "",
            "_model_name": "HTMLModel",
            "placeholder": "​",
            "_view_module": "@jupyter-widgets/controls",
            "_model_module_version": "1.5.0",
            "value": " 232k/232k [00:00&lt;00:00, 580kB/s]",
            "_view_count": null,
            "_view_module_version": "1.5.0",
            "description_tooltip": null,
            "_model_module": "@jupyter-widgets/controls",
            "layout": "IPY_MODEL_8fdb4448ef8f43e0a9c14541adcad49b"
          }
        },
        "95362f3a737f4b5c9baa899ad8a7b916": {
          "model_module": "@jupyter-widgets/controls",
          "model_name": "ProgressStyleModel",
          "state": {
            "_view_name": "StyleView",
            "_model_name": "ProgressStyleModel",
            "description_width": "initial",
            "_view_module": "@jupyter-widgets/base",
            "_model_module_version": "1.5.0",
            "_view_count": null,
            "_view_module_version": "1.2.0",
            "bar_color": null,
            "_model_module": "@jupyter-widgets/controls"
          }
        },
        "75d84a10405046ce901f8dc7746451a3": {
          "model_module": "@jupyter-widgets/base",
          "model_name": "LayoutModel",
          "state": {
            "_view_name": "LayoutView",
            "grid_template_rows": null,
            "right": null,
            "justify_content": null,
            "_view_module": "@jupyter-widgets/base",
            "overflow": null,
            "_model_module_version": "1.2.0",
            "_view_count": null,
            "flex_flow": null,
            "width": null,
            "min_width": null,
            "border": null,
            "align_items": null,
            "bottom": null,
            "_model_module": "@jupyter-widgets/base",
            "top": null,
            "grid_column": null,
            "overflow_y": null,
            "overflow_x": null,
            "grid_auto_flow": null,
            "grid_area": null,
            "grid_template_columns": null,
            "flex": null,
            "_model_name": "LayoutModel",
            "justify_items": null,
            "grid_row": null,
            "max_height": null,
            "align_content": null,
            "visibility": null,
            "align_self": null,
            "height": null,
            "min_height": null,
            "padding": null,
            "grid_auto_rows": null,
            "grid_gap": null,
            "max_width": null,
            "order": null,
            "_view_module_version": "1.2.0",
            "grid_template_areas": null,
            "object_position": null,
            "object_fit": null,
            "grid_auto_columns": null,
            "margin": null,
            "display": null,
            "left": null
          }
        },
        "40ef0b2f8a6148e3a3991914d508511f": {
          "model_module": "@jupyter-widgets/controls",
          "model_name": "DescriptionStyleModel",
          "state": {
            "_view_name": "StyleView",
            "_model_name": "DescriptionStyleModel",
            "description_width": "",
            "_view_module": "@jupyter-widgets/base",
            "_model_module_version": "1.5.0",
            "_view_count": null,
            "_view_module_version": "1.2.0",
            "_model_module": "@jupyter-widgets/controls"
          }
        },
        "8fdb4448ef8f43e0a9c14541adcad49b": {
          "model_module": "@jupyter-widgets/base",
          "model_name": "LayoutModel",
          "state": {
            "_view_name": "LayoutView",
            "grid_template_rows": null,
            "right": null,
            "justify_content": null,
            "_view_module": "@jupyter-widgets/base",
            "overflow": null,
            "_model_module_version": "1.2.0",
            "_view_count": null,
            "flex_flow": null,
            "width": null,
            "min_width": null,
            "border": null,
            "align_items": null,
            "bottom": null,
            "_model_module": "@jupyter-widgets/base",
            "top": null,
            "grid_column": null,
            "overflow_y": null,
            "overflow_x": null,
            "grid_auto_flow": null,
            "grid_area": null,
            "grid_template_columns": null,
            "flex": null,
            "_model_name": "LayoutModel",
            "justify_items": null,
            "grid_row": null,
            "max_height": null,
            "align_content": null,
            "visibility": null,
            "align_self": null,
            "height": null,
            "min_height": null,
            "padding": null,
            "grid_auto_rows": null,
            "grid_gap": null,
            "max_width": null,
            "order": null,
            "_view_module_version": "1.2.0",
            "grid_template_areas": null,
            "object_position": null,
            "object_fit": null,
            "grid_auto_columns": null,
            "margin": null,
            "display": null,
            "left": null
          }
        }
      }
    }
  },
  "cells": [
    {
      "cell_type": "code",
      "metadata": {
        "id": "OPGfOZ4n9yA-",
        "outputId": "9972a887-5b12-42a3-b959-36418c81e995",
        "colab": {
          "base_uri": "https://localhost:8080/",
          "height": 615
        }
      },
      "source": [
        "!pip install transformers==3.0.2"
      ],
      "execution_count": null,
      "outputs": [
        {
          "output_type": "stream",
          "text": [
            "Collecting transformers==3.0.2\n",
            "\u001b[?25l  Downloading https://files.pythonhosted.org/packages/27/3c/91ed8f5c4e7ef3227b4119200fc0ed4b4fd965b1f0172021c25701087825/transformers-3.0.2-py3-none-any.whl (769kB)\n",
            "\r\u001b[K     |▍                               | 10kB 21.0MB/s eta 0:00:01\r\u001b[K     |▉                               | 20kB 6.2MB/s eta 0:00:01\r\u001b[K     |█▎                              | 30kB 8.7MB/s eta 0:00:01\r\u001b[K     |█▊                              | 40kB 8.5MB/s eta 0:00:01\r\u001b[K     |██▏                             | 51kB 7.1MB/s eta 0:00:01\r\u001b[K     |██▋                             | 61kB 8.0MB/s eta 0:00:01\r\u001b[K     |███                             | 71kB 8.3MB/s eta 0:00:01\r\u001b[K     |███▍                            | 81kB 8.6MB/s eta 0:00:01\r\u001b[K     |███▉                            | 92kB 9.5MB/s eta 0:00:01\r\u001b[K     |████▎                           | 102kB 9.3MB/s eta 0:00:01\r\u001b[K     |████▊                           | 112kB 9.3MB/s eta 0:00:01\r\u001b[K     |█████▏                          | 122kB 9.3MB/s eta 0:00:01\r\u001b[K     |█████▌                          | 133kB 9.3MB/s eta 0:00:01\r\u001b[K     |██████                          | 143kB 9.3MB/s eta 0:00:01\r\u001b[K     |██████▍                         | 153kB 9.3MB/s eta 0:00:01\r\u001b[K     |██████▉                         | 163kB 9.3MB/s eta 0:00:01\r\u001b[K     |███████▎                        | 174kB 9.3MB/s eta 0:00:01\r\u001b[K     |███████▊                        | 184kB 9.3MB/s eta 0:00:01\r\u001b[K     |████████                        | 194kB 9.3MB/s eta 0:00:01\r\u001b[K     |████████▌                       | 204kB 9.3MB/s eta 0:00:01\r\u001b[K     |█████████                       | 215kB 9.3MB/s eta 0:00:01\r\u001b[K     |█████████▍                      | 225kB 9.3MB/s eta 0:00:01\r\u001b[K     |█████████▉                      | 235kB 9.3MB/s eta 0:00:01\r\u001b[K     |██████████▎                     | 245kB 9.3MB/s eta 0:00:01\r\u001b[K     |██████████▋                     | 256kB 9.3MB/s eta 0:00:01\r\u001b[K     |███████████                     | 266kB 9.3MB/s eta 0:00:01\r\u001b[K     |███████████▌                    | 276kB 9.3MB/s eta 0:00:01\r\u001b[K     |████████████                    | 286kB 9.3MB/s eta 0:00:01\r\u001b[K     |████████████▍                   | 296kB 9.3MB/s eta 0:00:01\r\u001b[K     |████████████▉                   | 307kB 9.3MB/s eta 0:00:01\r\u001b[K     |█████████████▏                  | 317kB 9.3MB/s eta 0:00:01\r\u001b[K     |█████████████▋                  | 327kB 9.3MB/s eta 0:00:01\r\u001b[K     |██████████████                  | 337kB 9.3MB/s eta 0:00:01\r\u001b[K     |██████████████▌                 | 348kB 9.3MB/s eta 0:00:01\r\u001b[K     |███████████████                 | 358kB 9.3MB/s eta 0:00:01\r\u001b[K     |███████████████▍                | 368kB 9.3MB/s eta 0:00:01\r\u001b[K     |███████████████▊                | 378kB 9.3MB/s eta 0:00:01\r\u001b[K     |████████████████▏               | 389kB 9.3MB/s eta 0:00:01\r\u001b[K     |████████████████▋               | 399kB 9.3MB/s eta 0:00:01\r\u001b[K     |█████████████████               | 409kB 9.3MB/s eta 0:00:01\r\u001b[K     |█████████████████▌              | 419kB 9.3MB/s eta 0:00:01\r\u001b[K     |██████████████████              | 430kB 9.3MB/s eta 0:00:01\r\u001b[K     |██████████████████▎             | 440kB 9.3MB/s eta 0:00:01\r\u001b[K     |██████████████████▊             | 450kB 9.3MB/s eta 0:00:01\r\u001b[K     |███████████████████▏            | 460kB 9.3MB/s eta 0:00:01\r\u001b[K     |███████████████████▋            | 471kB 9.3MB/s eta 0:00:01\r\u001b[K     |████████████████████            | 481kB 9.3MB/s eta 0:00:01\r\u001b[K     |████████████████████▌           | 491kB 9.3MB/s eta 0:00:01\r\u001b[K     |████████████████████▉           | 501kB 9.3MB/s eta 0:00:01\r\u001b[K     |█████████████████████▎          | 512kB 9.3MB/s eta 0:00:01\r\u001b[K     |█████████████████████▊          | 522kB 9.3MB/s eta 0:00:01\r\u001b[K     |██████████████████████▏         | 532kB 9.3MB/s eta 0:00:01\r\u001b[K     |██████████████████████▋         | 542kB 9.3MB/s eta 0:00:01\r\u001b[K     |███████████████████████         | 552kB 9.3MB/s eta 0:00:01\r\u001b[K     |███████████████████████▍        | 563kB 9.3MB/s eta 0:00:01\r\u001b[K     |███████████████████████▉        | 573kB 9.3MB/s eta 0:00:01\r\u001b[K     |████████████████████████▎       | 583kB 9.3MB/s eta 0:00:01\r\u001b[K     |████████████████████████▊       | 593kB 9.3MB/s eta 0:00:01\r\u001b[K     |█████████████████████████▏      | 604kB 9.3MB/s eta 0:00:01\r\u001b[K     |█████████████████████████▋      | 614kB 9.3MB/s eta 0:00:01\r\u001b[K     |██████████████████████████      | 624kB 9.3MB/s eta 0:00:01\r\u001b[K     |██████████████████████████▍     | 634kB 9.3MB/s eta 0:00:01\r\u001b[K     |██████████████████████████▉     | 645kB 9.3MB/s eta 0:00:01\r\u001b[K     |███████████████████████████▎    | 655kB 9.3MB/s eta 0:00:01\r\u001b[K     |███████████████████████████▊    | 665kB 9.3MB/s eta 0:00:01\r\u001b[K     |████████████████████████████▏   | 675kB 9.3MB/s eta 0:00:01\r\u001b[K     |████████████████████████████▌   | 686kB 9.3MB/s eta 0:00:01\r\u001b[K     |█████████████████████████████   | 696kB 9.3MB/s eta 0:00:01\r\u001b[K     |█████████████████████████████▍  | 706kB 9.3MB/s eta 0:00:01\r\u001b[K     |█████████████████████████████▉  | 716kB 9.3MB/s eta 0:00:01\r\u001b[K     |██████████████████████████████▎ | 727kB 9.3MB/s eta 0:00:01\r\u001b[K     |██████████████████████████████▊ | 737kB 9.3MB/s eta 0:00:01\r\u001b[K     |███████████████████████████████ | 747kB 9.3MB/s eta 0:00:01\r\u001b[K     |███████████████████████████████▌| 757kB 9.3MB/s eta 0:00:01\r\u001b[K     |████████████████████████████████| 768kB 9.3MB/s eta 0:00:01\r\u001b[K     |████████████████████████████████| 778kB 9.3MB/s \n",
            "\u001b[?25hRequirement already satisfied: requests in /usr/local/lib/python3.6/dist-packages (from transformers==3.0.2) (2.23.0)\n",
            "Requirement already satisfied: packaging in /usr/local/lib/python3.6/dist-packages (from transformers==3.0.2) (20.4)\n",
            "Requirement already satisfied: dataclasses; python_version < \"3.7\" in /usr/local/lib/python3.6/dist-packages (from transformers==3.0.2) (0.7)\n",
            "Collecting tokenizers==0.8.1.rc1\n",
            "\u001b[?25l  Downloading https://files.pythonhosted.org/packages/40/d0/30d5f8d221a0ed981a186c8eb986ce1c94e3a6e87f994eae9f4aa5250217/tokenizers-0.8.1rc1-cp36-cp36m-manylinux1_x86_64.whl (3.0MB)\n",
            "\u001b[K     |████████████████████████████████| 3.0MB 30.2MB/s \n",
            "\u001b[?25hRequirement already satisfied: regex!=2019.12.17 in /usr/local/lib/python3.6/dist-packages (from transformers==3.0.2) (2019.12.20)\n",
            "Requirement already satisfied: numpy in /usr/local/lib/python3.6/dist-packages (from transformers==3.0.2) (1.18.5)\n",
            "Requirement already satisfied: filelock in /usr/local/lib/python3.6/dist-packages (from transformers==3.0.2) (3.0.12)\n",
            "Requirement already satisfied: tqdm>=4.27 in /usr/local/lib/python3.6/dist-packages (from transformers==3.0.2) (4.41.1)\n",
            "Collecting sacremoses\n",
            "\u001b[?25l  Downloading https://files.pythonhosted.org/packages/7d/34/09d19aff26edcc8eb2a01bed8e98f13a1537005d31e95233fd48216eed10/sacremoses-0.0.43.tar.gz (883kB)\n",
            "\u001b[K     |████████████████████████████████| 890kB 45.1MB/s \n",
            "\u001b[?25hCollecting sentencepiece!=0.1.92\n",
            "\u001b[?25l  Downloading https://files.pythonhosted.org/packages/d4/a4/d0a884c4300004a78cca907a6ff9a5e9fe4f090f5d95ab341c53d28cbc58/sentencepiece-0.1.91-cp36-cp36m-manylinux1_x86_64.whl (1.1MB)\n",
            "\u001b[K     |████████████████████████████████| 1.1MB 47.8MB/s \n",
            "\u001b[?25hRequirement already satisfied: certifi>=2017.4.17 in /usr/local/lib/python3.6/dist-packages (from requests->transformers==3.0.2) (2020.6.20)\n",
            "Requirement already satisfied: idna<3,>=2.5 in /usr/local/lib/python3.6/dist-packages (from requests->transformers==3.0.2) (2.10)\n",
            "Requirement already satisfied: chardet<4,>=3.0.2 in /usr/local/lib/python3.6/dist-packages (from requests->transformers==3.0.2) (3.0.4)\n",
            "Requirement already satisfied: urllib3!=1.25.0,!=1.25.1,<1.26,>=1.21.1 in /usr/local/lib/python3.6/dist-packages (from requests->transformers==3.0.2) (1.24.3)\n",
            "Requirement already satisfied: six in /usr/local/lib/python3.6/dist-packages (from packaging->transformers==3.0.2) (1.15.0)\n",
            "Requirement already satisfied: pyparsing>=2.0.2 in /usr/local/lib/python3.6/dist-packages (from packaging->transformers==3.0.2) (2.4.7)\n",
            "Requirement already satisfied: click in /usr/local/lib/python3.6/dist-packages (from sacremoses->transformers==3.0.2) (7.1.2)\n",
            "Requirement already satisfied: joblib in /usr/local/lib/python3.6/dist-packages (from sacremoses->transformers==3.0.2) (0.16.0)\n",
            "Building wheels for collected packages: sacremoses\n",
            "  Building wheel for sacremoses (setup.py) ... \u001b[?25l\u001b[?25hdone\n",
            "  Created wheel for sacremoses: filename=sacremoses-0.0.43-cp36-none-any.whl size=893257 sha256=b6ab7937792670b00b3b92b77369100d0f843061d36f349e4b79cad0daa58420\n",
            "  Stored in directory: /root/.cache/pip/wheels/29/3c/fd/7ce5c3f0666dab31a50123635e6fb5e19ceb42ce38d4e58f45\n",
            "Successfully built sacremoses\n",
            "Installing collected packages: tokenizers, sacremoses, sentencepiece, transformers\n",
            "Successfully installed sacremoses-0.0.43 sentencepiece-0.1.91 tokenizers-0.8.1rc1 transformers-3.0.2\n"
          ],
          "name": "stdout"
        }
      ]
    },
    {
      "cell_type": "code",
      "metadata": {
        "id": "iOSjOdCB92Tz",
        "outputId": "a3634f76-e2fb-4ae9-e0b5-a3907deaf434",
        "colab": {
          "base_uri": "https://localhost:8080/",
          "height": 198,
          "referenced_widgets": [
            "3928d6f157cc4bf5bf015db7cda53893",
            "c53395d1665f4c98a60990c8daef87d8",
            "4dc2dd07d30946e6bddb40da1c32b647",
            "1ce2a02f42304a6fabea2b6a85aeed96",
            "8201c58eadf74dfcb024c8faf989c189",
            "0d1f8d7f48784e96a6b021e3695757e1",
            "6aa3c89046754d04b32a08c341ceddb0",
            "60c39cb1bf82403b87839279047104da",
            "d87b1d39c0974e9b92ed50035ba4a9dc",
            "e1bf6818546c4fabb9194d7be2d85fb1",
            "18415e6231494c8ab78adb71e32c4ce6",
            "b7091aaf18c84d6baa283f27f5c2ffd3",
            "685c68606e2f4e21aa32dcf1caa63b7a",
            "ff35fb62be664ff984bbd458c6580299",
            "17a40c9cdd8e494fb3a7674c774fb075",
            "1199ae3857b540e89d4143f1279ca4cf",
            "64efcd4c62de465296118e598c6e0ccf",
            "6d33247fb7f2484886c258c2666492c8",
            "1d7cb4949d5c423dafafbf3e85cb2612",
            "f7c5358f5d0b4febba4bdc0c3b43fe32",
            "95362f3a737f4b5c9baa899ad8a7b916",
            "75d84a10405046ce901f8dc7746451a3",
            "40ef0b2f8a6148e3a3991914d508511f",
            "8fdb4448ef8f43e0a9c14541adcad49b"
          ]
        }
      },
      "source": [
        "import numpy as np\n",
        "import pandas as pd\n",
        "import nltk\n",
        "import sys\n",
        "nltk.download('punkt')\n",
        "import transformers\n",
        "import torch\n",
        "device = torch.device(\"cuda:0\" if torch.cuda.is_available() else \"cpu\")\n",
        "model=transformers.BertModel.from_pretrained('bert-base-uncased').to(device).eval()\n",
        "tokenizer=transformers.BertTokenizer.from_pretrained('bert-base-uncased')"
      ],
      "execution_count": null,
      "outputs": [
        {
          "output_type": "stream",
          "text": [
            "[nltk_data] Downloading package punkt to /root/nltk_data...\n",
            "[nltk_data]   Unzipping tokenizers/punkt.zip.\n"
          ],
          "name": "stdout"
        },
        {
          "output_type": "display_data",
          "data": {
            "application/vnd.jupyter.widget-view+json": {
              "model_id": "3928d6f157cc4bf5bf015db7cda53893",
              "version_minor": 0,
              "version_major": 2
            },
            "text/plain": [
              "HBox(children=(FloatProgress(value=0.0, description='Downloading', max=433.0, style=ProgressStyle(description_…"
            ]
          },
          "metadata": {
            "tags": []
          }
        },
        {
          "output_type": "stream",
          "text": [
            "\n"
          ],
          "name": "stdout"
        },
        {
          "output_type": "display_data",
          "data": {
            "application/vnd.jupyter.widget-view+json": {
              "model_id": "d87b1d39c0974e9b92ed50035ba4a9dc",
              "version_minor": 0,
              "version_major": 2
            },
            "text/plain": [
              "HBox(children=(FloatProgress(value=0.0, description='Downloading', max=440473133.0, style=ProgressStyle(descri…"
            ]
          },
          "metadata": {
            "tags": []
          }
        },
        {
          "output_type": "stream",
          "text": [
            "\n"
          ],
          "name": "stdout"
        },
        {
          "output_type": "display_data",
          "data": {
            "application/vnd.jupyter.widget-view+json": {
              "model_id": "64efcd4c62de465296118e598c6e0ccf",
              "version_minor": 0,
              "version_major": 2
            },
            "text/plain": [
              "HBox(children=(FloatProgress(value=0.0, description='Downloading', max=231508.0, style=ProgressStyle(descripti…"
            ]
          },
          "metadata": {
            "tags": []
          }
        },
        {
          "output_type": "stream",
          "text": [
            "\n"
          ],
          "name": "stdout"
        }
      ]
    },
    {
      "cell_type": "code",
      "metadata": {
        "id": "-VXpa53396bZ"
      },
      "source": [
        "from sklearn.feature_extraction.text import TfidfVectorizer\n",
        "from scipy.sparse import csr_matrix\n",
        "def get_tfidf_features(paragraphs):\n",
        "    print(\"Extracting tf-idf features\")\n",
        "    all_paragraph_features=[]\n",
        "    vectorizer = TfidfVectorizer()\n",
        "    lengths=[]\n",
        "    for paragraph in paragraphs:\n",
        "        vectorizer = TfidfVectorizer()\n",
        "        curr_features=vectorizer.fit_transform(paragraph)\n",
        "        lengths.append(len(vectorizer.get_feature_names()))\n",
        "        all_paragraph_features.append(np.array(curr_features.todense()))\n",
        "    lengths=np.array(lengths)\n",
        "    print(\"Min length of dictionary: {}\".format(np.amin(lengths)))\n",
        "    print(\"Avg length of dictionary: {}\".format(np.mean(lengths)))\n",
        "    print(\"Max length of dictionary: {}\".format(np.amax(lengths)))\n",
        "    return np.asarray(all_paragraph_features)"
      ],
      "execution_count": null,
      "outputs": []
    },
    {
      "cell_type": "code",
      "metadata": {
        "id": "X0mKqKk196kk",
        "outputId": "c7098aba-ec65-4217-922c-cc6bad585a58",
        "colab": {
          "base_uri": "https://localhost:8080/",
          "height": 34
        }
      },
      "source": [
        "print(\"GPU/CPU:\",torch.cuda.get_device_name(0)) \n",
        "def bert_features(paragraph):\n",
        "    max_seq_length=500\n",
        "    batch_tokens=[]\n",
        "    longest_seq=0\n",
        "    for sentence in paragraph:\n",
        "        tokens=tokenizer.tokenize(sentence)\n",
        "        tokens_id=tokenizer.convert_tokens_to_ids(tokens)\n",
        "        longest_seq = max(longest_seq, len(tokens))\n",
        "        batch_tokens.append(tokens_id)\n",
        "    features = {}\n",
        "    pad_seq_length = min(longest_seq,max_seq_length) + 3\n",
        "    for text in batch_tokens:\n",
        "        sentence_features = tokenizer.prepare_for_model(text,max_length=pad_seq_length, pad_to_max_length=True, return_tensors='pt',truncation=True)\n",
        "        for feature_name in sentence_features:\n",
        "            if feature_name not in features:\n",
        "                features[feature_name] = []\n",
        "            features[feature_name].append(sentence_features[feature_name])\n",
        "    for feature_name in features:\n",
        "        features[feature_name] = torch.cat(features[feature_name]).to(device)\n",
        "    with torch.no_grad():\n",
        "        outputs = model(**features)\n",
        "    pooled_output = outputs[1]\n",
        "    return pooled_output\n",
        "    \n",
        "def get_bert_features(paragraphs):\n",
        "    all_paragraph_features=[]\n",
        "    for i,paragraph in enumerate(paragraphs):\n",
        "        curr_features=bert_features(paragraph)\n",
        "        sys.stdout.write(\"\\rExtracted features for {} of {}\".format(i+1,paragraphs.shape[0]))\n",
        "        sys.stdout.flush()\n",
        "        all_paragraph_features.append(curr_features)\n",
        "    return np.asarray(all_paragraph_features)"
      ],
      "execution_count": null,
      "outputs": [
        {
          "output_type": "stream",
          "text": [
            "GPU/CPU: Tesla T4\n"
          ],
          "name": "stdout"
        }
      ]
    },
    {
      "cell_type": "code",
      "metadata": {
        "id": "N-9t_DxEGsgI"
      },
      "source": [
        "from nltk.cluster.util import cosine_distance\n",
        "def build_similarity_matrix(paragraph_features,is_tensor):\n",
        "    if is_tensor:\n",
        "        paragraph_features=paragraph_features.cpu().numpy()\n",
        "    num_sentences=paragraph_features.shape[0]\n",
        "    similarity_matrix = np.zeros((num_sentences, num_sentences))\n",
        "    for idx1 in range(num_sentences):\n",
        "        for idx2 in range(num_sentences):\n",
        "            if idx1 == idx2: #ignore if both are same sentences\n",
        "                continue \n",
        "            similarity_matrix[idx1][idx2] = 1-cosine_distance(paragraph_features[idx1],paragraph_features[idx2])\n",
        "    return similarity_matrix\n",
        "\n",
        "import networkx as nx\n",
        "def generate_summaries(paragraphs,features_paragraphs,is_tensor=False):\n",
        "    text_summaries=[]\n",
        "    cnt=0\n",
        "    for i,paragraph_features in enumerate(features_paragraphs):\n",
        "        sys.stdout.write(\"\\rGenerating summary for {} of {}\".format(i+1,paragraphs.shape[0]))\n",
        "        sys.stdout.flush()\n",
        "        similarity_matrix=build_similarity_matrix(paragraph_features,is_tensor)\n",
        "        sentence_similarity_graph = nx.from_numpy_array(similarity_matrix)\n",
        "        try:\n",
        "            scores = nx.pagerank(sentence_similarity_graph,max_iter=100)\n",
        "            ranked_sentence = sorted(((scores[j],j) for j,s in enumerate(paragraphs[i])), reverse=True)    \n",
        "            top_n=3\n",
        "            summary_indices=[]\n",
        "            for j in range(top_n):\n",
        "                summary_indices.append(ranked_sentence[j][1])\n",
        "            out=np.array(paragraphs[i])\n",
        "            out_indices=sorted(summary_indices)\n",
        "            text_summaries.append((\"\".join(out),\"\".join(out[out_indices]),similarity_matrix))\n",
        "        except:\n",
        "            cnt+=1\n",
        "    print(\"Pagerank didn't converge for {} paragraphs\".format(cnt))\n",
        "    return text_summaries"
      ],
      "execution_count": null,
      "outputs": []
    },
    {
      "cell_type": "code",
      "metadata": {
        "id": "4XmTnPt596ud",
        "outputId": "dfc98ace-43cf-4773-ef62-dc877132a23d",
        "colab": {
          "base_uri": "https://localhost:8080/",
          "height": 68
        }
      },
      "source": [
        "#DATASET-1\n",
        "#Loading and cleaning\n",
        "data=pd.read_csv('news_summary.csv',encoding='iso-8859-1')\n",
        "data_paragraphs=data['ctext']\n",
        "all_paragraphs=[]\n",
        "cnt=0\n",
        "for paragraph in data_paragraphs:\n",
        "    try:\n",
        "        all_paragraphs.append(nltk.sent_tokenize(paragraph))\n",
        "    except:\n",
        "        cnt+=1\n",
        "print(\"{} paragraphs omitted\".format(cnt))\n",
        "all_paragraphs=np.array(all_paragraphs)\n",
        "print(\"{} paragraphs parsed\".format(all_paragraphs.shape[0]))\n",
        "lengths=[]\n",
        "min_thres=3\n",
        "max_thres=35\n",
        "paragraphs=[]\n",
        "for paragraph in all_paragraphs:\n",
        "    curr_len=len(paragraph)\n",
        "    if curr_len>=min_thres and curr_len<=max_thres:\n",
        "        paragraphs.append(paragraph)\n",
        "print(\"{} paragraphs in dataset after applying length constraint\".format(len(paragraphs)))\n",
        "paragraphs=np.array(paragraphs)"
      ],
      "execution_count": null,
      "outputs": [
        {
          "output_type": "stream",
          "text": [
            "118 paragraphs omitted\n",
            "4396 paragraphs parsed\n",
            "3878 paragraphs in dataset after applying length constraint\n"
          ],
          "name": "stdout"
        }
      ]
    },
    {
      "cell_type": "code",
      "metadata": {
        "id": "pUMgOgEW96zd",
        "outputId": "7b6202a9-c7ca-4af5-b9fd-4c3d5b0d9ad3",
        "colab": {
          "base_uri": "https://localhost:8080/",
          "height": 105
        }
      },
      "source": [
        "#Visualizing\n",
        "for paragraph in paragraphs:\n",
        "    if len(paragraph)==min_thres:\n",
        "        print(paragraph)\n",
        "        break\n",
        "print(\"\\n\")\n",
        "for paragraph in paragraphs:\n",
        "    if len(paragraph)==max_thres:\n",
        "        print(paragraph)\n",
        "        break"
      ],
      "execution_count": null,
      "outputs": [
        {
          "output_type": "stream",
          "text": [
            "['President Donald Trump?s son-in-law says the Trump campaign couldn?t have colluded with Russia because the team was too dysfunctional and disorganised to coordinate with a foreign government.Jared Kushner, a senior adviser to the president, made the comment Monday during a closed-door session with congressional interns.A Democratic congressional aide says Kushner was responding to a question about Special Counsel Robert Mueller?s investigation into whether the Trump campaign colluded with Moscow.ForeignPolicy.com first reported Kushner?s remarks.', 'The aide was knowledgeable of the meeting and confirmed the accuracy of the comments.Last week, Kushner met privately at the Capitol with members of the Senate and House intelligence committees.He acknowledged four meetings with Russians during and after Trump?s victorious White House bid and insisted that he had ?nothing to hide.', '?']\n",
            "\n",
            "\n",
            "['It took him five years and lot of courage to openly speak about his battle with drug addiction.', 'After making a promising start in Bollywood, Prateik Babbar vanished from the limelight for a good five years.', \"His absence might not have caught anybody's attention, but his return has grabbed many eyeballs.\", 'And why not?', 'For the first time, the 30-year-old actor has openly spoken about his battle with substance abuse.', 'When many actors shy away from talking about their issues, Prateik has come out in the open, talking about his his long battle with addiction.', 'In an interview to Mumbai Mirror, the actor talked about addiction, recovery and his career.', 'This is what he said.', 'On addiction He has come to terms with complications of his life and has fought the demons of substance abuse.', 'It was last year when he first talked about his drug addiction, and in the last one year, he has been a \"work in progress\".', '\"Addiction is not a moral failing, it does not make you a bad person even if you have made a poor choice.', \"People still think I got hooked because it was 'cool' for a celebrity to indulge in recreational drugs.\", 'But for me, it was more of an escape from reality.', 'My childhood was complicated and there were a lot of questions I didn\\'t have answers to so I looked elsewhere for solace,\" said Prateik.', 'On acceptanceIt took him a while to understand that he was an addict, and he needed to get out of it as soon as possible.', '\"Acceptance and speaking up can help change the face of addiction.', 'It educates those who are ailing and tells others that the stereotype of people suffering is the exception rather than the rule.', 'Acceptance is one of the first steps to recovery,\" added the actor.', \"On coming outPrateik came out in open about his addiction as he didn't want to keep his fans in the dark.\", 'He wanted them to be aware of the dark truth of his life.', '\"I\\'m a fighter and criticism is not an option for me.', \"Yes, one is entitled to his/her opinion and it's human to be judgmental but everyone deserves a second chance.\", 'The idea is to move on.', 'I want to create awareness by showcasing the boy uninterrupted so the world doesn\\'t get to see just one side of the story,\" said the 30-year-old actor.', 'On recoveryIt has taken him a few years to get back to his normal life and he says that with each passing day, he is making an effort to better his life.', 'He said, \"I\\'m still on the road to recovery but I\\'m proud to have turned over a new leaf.', 'Substance abuse is like a bad marriage, even after you quit, it haunts you for a while till people start noticing the turnaround.', \"I'm answerable to only my conscience.\", \"And yes, people take me more seriously now that I'm no longer the hippie rave but someone committed to fitness, auditions and family.\", '\"On his careerHe began his career with the 2008 film Jaane Tu...', 'Ya Jaane Na, and went onto bag a few promising roles in the subsequent years.', \"However, it's been almost five years since Prateik has been seen on the big screen.\", 'But the actor is all set to bounce back.', '\"I\\'m looking for quality work and am not embarrassed to go out and ask for it.', 'I\\'m also doing a lot of theatre with Jeff Goldberg because I believe it polishes your acting skills,\" he added.']\n"
          ],
          "name": "stdout"
        }
      ]
    },
    {
      "cell_type": "code",
      "metadata": {
        "id": "7JURGVQbMF4L"
      },
      "source": [
        "#TF-IDF FEATURES AND SUMMARIES"
      ],
      "execution_count": null,
      "outputs": []
    },
    {
      "cell_type": "code",
      "metadata": {
        "id": "MJABfUFvMJi5",
        "outputId": "74bade98-13e2-4fcd-c745-140ffcf094a8",
        "colab": {
          "base_uri": "https://localhost:8080/",
          "height": 85
        }
      },
      "source": [
        "features_tfidf=get_tfidf_features(paragraphs)"
      ],
      "execution_count": null,
      "outputs": [
        {
          "output_type": "stream",
          "text": [
            "Extracting tf-idf features\n",
            "Min length of dictionary: 34\n",
            "Avg length of dictionary: 170.2885507993811\n",
            "Max length of dictionary: 538\n"
          ],
          "name": "stdout"
        }
      ]
    },
    {
      "cell_type": "code",
      "metadata": {
        "id": "b_uRyblKMJpl",
        "outputId": "6de43c34-91ba-40d2-b323-9f47a5948975",
        "colab": {
          "base_uri": "https://localhost:8080/",
          "height": 88
        }
      },
      "source": [
        "tfidf_summaries=generate_summaries(paragraphs,features_tfidf)"
      ],
      "execution_count": null,
      "outputs": [
        {
          "output_type": "stream",
          "text": [
            "Generating summary for 18 of 3878"
          ],
          "name": "stdout"
        },
        {
          "output_type": "stream",
          "text": [
            "/usr/local/lib/python3.6/dist-packages/nltk/cluster/util.py:133: RuntimeWarning: invalid value encountered in double_scalars\n",
            "  sqrt(numpy.dot(u, u)) * sqrt(numpy.dot(v, v))))\n"
          ],
          "name": "stderr"
        },
        {
          "output_type": "stream",
          "text": [
            "Generating summary for 3878 of 3878Pagerank didn't converge for 218 paragraphs\n"
          ],
          "name": "stdout"
        }
      ]
    },
    {
      "cell_type": "code",
      "metadata": {
        "id": "1nnsvIk_EMCa"
      },
      "source": [
        "###BERT FEATURES AND SUMMARIES"
      ],
      "execution_count": null,
      "outputs": []
    },
    {
      "cell_type": "code",
      "metadata": {
        "id": "RqUw3cUt96xk",
        "outputId": "0445b23d-9675-4417-ee33-847db87c10df",
        "colab": {
          "base_uri": "https://localhost:8080/",
          "height": 34
        }
      },
      "source": [
        "features_bert=get_bert_features(paragraphs)"
      ],
      "execution_count": null,
      "outputs": [
        {
          "output_type": "stream",
          "text": [
            "Extracted features for 3878 of 3878"
          ],
          "name": "stdout"
        }
      ]
    },
    {
      "cell_type": "code",
      "metadata": {
        "id": "r8t6glra96sP",
        "outputId": "947b5370-f9a1-45bd-f6d7-55b26dba55fb",
        "colab": {
          "base_uri": "https://localhost:8080/",
          "height": 34
        }
      },
      "source": [
        "bert_summaries=generate_summaries(paragraphs,features_bert,is_tensor=True)"
      ],
      "execution_count": null,
      "outputs": [
        {
          "output_type": "stream",
          "text": [
            "Generating summary for 3878 of 3878Pagerank didn't converge for 37 paragraphs\n"
          ],
          "name": "stdout"
        }
      ]
    },
    {
      "cell_type": "code",
      "metadata": {
        "id": "9WgJsnbH96ow"
      },
      "source": [
        "###ANALYSIS"
      ],
      "execution_count": null,
      "outputs": []
    },
    {
      "cell_type": "code",
      "metadata": {
        "id": "Cvo2ibsZpsF2",
        "outputId": "e13d89d7-760e-4d80-e0d9-153cc664212d",
        "colab": {
          "base_uri": "https://localhost:8080/",
          "height": 71
        }
      },
      "source": [
        "bert_summaries[0][:2]"
      ],
      "execution_count": null,
      "outputs": [
        {
          "output_type": "execute_result",
          "data": {
            "text/plain": [
              "('The Daman and Diu administration on Wednesday withdrew a circular that asked women staff to tie rakhis on male colleagues after the order triggered a backlash from employees and was ripped apart on social media.The union territory?s administration was forced to retreat within 24 hours of issuing the circular that made it compulsory for its staff to celebrate Rakshabandhan at workplace.?It has been decided to celebrate the festival of Rakshabandhan on August 7.In this connection, all offices/ departments shall remain open and celebrate the festival collectively at a suitable time wherein all the lady staff shall tie rakhis to their colleagues,?the order, issued on August 1 by Gurpreet Singh, deputy secretary (personnel), had said.To ensure that no one skipped office, an attendance report was to be sent to the government the next evening.The two notifications ?one mandating the celebration of Rakshabandhan (left) and the other withdrawing the mandate (right) ?were issued by the Daman and Diu administration a day apart.The circular was withdrawn through a one-line order issued late in the evening by the UT?s department of personnel and administrative reforms.?The circular is ridiculous.There are sensitivities involved.How can the government dictate who I should tie rakhi to?We should maintain the professionalism of a workplace?an official told Hindustan Times earlier in the day.She refused to be identified.The notice was issued on Daman and Diu administrator and former Gujarat home minister Praful Kodabhai Patel?s direction, sources said.Rakshabandhan, a celebration of the bond between brothers and sisters, is one of several Hindu festivities and rituals that are no longer confined of private, family affairs but have become tools to push politic al ideologies.In 2014, the year BJP stormed to power at the Centre, Rashtriya Swayamsevak Sangh (RSS) chief Mohan Bhagwat said the festival had ?national significance?and should be celebrated widely ?to protect Hindu culture and live by the values enshrined in it?.The RSS is the ideological parent of the ruling BJP.Last year, women ministers in the Modi government went to the border areas to celebrate the festival with soldiers.A year before, all cabinet ministers were asked to go to their constituencies for the festival.',\n",
              " 'The Daman and Diu administration on Wednesday withdrew a circular that asked women staff to tie rakhis on male colleagues after the order triggered a backlash from employees and was ripped apart on social media.The union territory?s administration was forced to retreat within 24 hours of issuing the circular that made it compulsory for its staff to celebrate Rakshabandhan at workplace.were issued by the Daman and Diu administration a day apart.The circular was withdrawn through a one-line order issued late in the evening by the UT?s department of personnel and administrative reforms.')"
            ]
          },
          "metadata": {
            "tags": []
          },
          "execution_count": 14
        }
      ]
    },
    {
      "cell_type": "code",
      "metadata": {
        "id": "FWVnb1alQArI",
        "outputId": "10d5e5ee-70e0-4c13-bb9c-c1d9427d709d",
        "colab": {
          "base_uri": "https://localhost:8080/",
          "height": 71
        }
      },
      "source": [
        "tfidf_summaries[0][:2]"
      ],
      "execution_count": null,
      "outputs": [
        {
          "output_type": "execute_result",
          "data": {
            "text/plain": [
              "('The Daman and Diu administration on Wednesday withdrew a circular that asked women staff to tie rakhis on male colleagues after the order triggered a backlash from employees and was ripped apart on social media.The union territory?s administration was forced to retreat within 24 hours of issuing the circular that made it compulsory for its staff to celebrate Rakshabandhan at workplace.?It has been decided to celebrate the festival of Rakshabandhan on August 7.In this connection, all offices/ departments shall remain open and celebrate the festival collectively at a suitable time wherein all the lady staff shall tie rakhis to their colleagues,?the order, issued on August 1 by Gurpreet Singh, deputy secretary (personnel), had said.To ensure that no one skipped office, an attendance report was to be sent to the government the next evening.The two notifications ?one mandating the celebration of Rakshabandhan (left) and the other withdrawing the mandate (right) ?were issued by the Daman and Diu administration a day apart.The circular was withdrawn through a one-line order issued late in the evening by the UT?s department of personnel and administrative reforms.?The circular is ridiculous.There are sensitivities involved.How can the government dictate who I should tie rakhi to?We should maintain the professionalism of a workplace?an official told Hindustan Times earlier in the day.She refused to be identified.The notice was issued on Daman and Diu administrator and former Gujarat home minister Praful Kodabhai Patel?s direction, sources said.Rakshabandhan, a celebration of the bond between brothers and sisters, is one of several Hindu festivities and rituals that are no longer confined of private, family affairs but have become tools to push politic al ideologies.In 2014, the year BJP stormed to power at the Centre, Rashtriya Swayamsevak Sangh (RSS) chief Mohan Bhagwat said the festival had ?national significance?and should be celebrated widely ?to protect Hindu culture and live by the values enshrined in it?.The RSS is the ideological parent of the ruling BJP.Last year, women ministers in the Modi government went to the border areas to celebrate the festival with soldiers.A year before, all cabinet ministers were asked to go to their constituencies for the festival.',\n",
              " 'The Daman and Diu administration on Wednesday withdrew a circular that asked women staff to tie rakhis on male colleagues after the order triggered a backlash from employees and was ripped apart on social media.The union territory?s administration was forced to retreat within 24 hours of issuing the circular that made it compulsory for its staff to celebrate Rakshabandhan at workplace.She refused to be identified.The notice was issued on Daman and Diu administrator and former Gujarat home minister Praful Kodabhai Patel?s direction, sources said.Rakshabandhan, a celebration of the bond between brothers and sisters, is one of several Hindu festivities and rituals that are no longer confined of private, family affairs but have become tools to push politic al ideologies.In 2014, the year BJP stormed to power at the Centre, Rashtriya Swayamsevak Sangh (RSS) chief Mohan Bhagwat said the festival had ?national significance?The RSS is the ideological parent of the ruling BJP.Last year, women ministers in the Modi government went to the border areas to celebrate the festival with soldiers.')"
            ]
          },
          "metadata": {
            "tags": []
          },
          "execution_count": 15
        }
      ]
    },
    {
      "cell_type": "code",
      "metadata": {
        "id": "9pvvo-_5QGAI",
        "outputId": "ffb06ea2-0119-4219-cbde-79c53b40f8e7",
        "colab": {
          "base_uri": "https://localhost:8080/",
          "height": 1000
        }
      },
      "source": [
        "for i in range(paragraphs.shape[0]):\n",
        "    if len(paragraphs[i])==6:\n",
        "        print(i)"
      ],
      "execution_count": null,
      "outputs": [
        {
          "output_type": "stream",
          "text": [
            "22\n",
            "27\n",
            "28\n",
            "86\n",
            "132\n",
            "148\n",
            "181\n",
            "236\n",
            "248\n",
            "256\n",
            "276\n",
            "289\n",
            "302\n",
            "368\n",
            "382\n",
            "383\n",
            "433\n",
            "447\n",
            "462\n",
            "468\n",
            "478\n",
            "516\n",
            "526\n",
            "532\n",
            "555\n",
            "560\n",
            "566\n",
            "569\n",
            "629\n",
            "648\n",
            "683\n",
            "708\n",
            "714\n",
            "750\n",
            "882\n",
            "905\n",
            "926\n",
            "944\n",
            "950\n",
            "956\n",
            "963\n",
            "968\n",
            "974\n",
            "983\n",
            "1013\n",
            "1016\n",
            "1023\n",
            "1028\n",
            "1043\n",
            "1048\n",
            "1056\n",
            "1059\n",
            "1061\n",
            "1070\n",
            "1097\n",
            "1110\n",
            "1115\n",
            "1184\n",
            "1193\n",
            "1198\n",
            "1199\n",
            "1233\n",
            "1254\n",
            "1277\n",
            "1278\n",
            "1299\n",
            "1301\n",
            "1373\n",
            "1377\n",
            "1393\n",
            "1427\n",
            "1439\n",
            "1446\n",
            "1457\n",
            "1470\n",
            "1471\n",
            "1479\n",
            "1486\n",
            "1495\n",
            "1511\n",
            "1512\n",
            "1545\n",
            "1546\n",
            "1570\n",
            "1581\n",
            "1587\n",
            "1592\n",
            "1598\n",
            "1603\n",
            "1624\n",
            "1629\n",
            "1645\n",
            "1656\n",
            "1666\n",
            "1674\n",
            "1694\n",
            "1695\n",
            "1715\n",
            "1718\n",
            "1724\n",
            "1746\n",
            "1758\n",
            "1779\n",
            "1783\n",
            "1796\n",
            "1799\n",
            "1902\n",
            "1983\n",
            "1992\n",
            "2005\n",
            "2009\n",
            "2016\n",
            "2023\n",
            "2025\n",
            "2069\n",
            "2103\n",
            "2106\n",
            "2163\n",
            "2195\n",
            "2225\n",
            "2231\n",
            "2235\n",
            "2243\n",
            "2245\n",
            "2272\n",
            "2292\n",
            "2328\n",
            "2336\n",
            "2350\n",
            "2369\n",
            "2371\n",
            "2374\n",
            "2391\n",
            "2424\n",
            "2443\n",
            "2452\n",
            "2482\n",
            "2512\n",
            "2526\n",
            "2527\n",
            "2529\n",
            "2548\n",
            "2555\n",
            "2560\n",
            "2563\n",
            "2582\n",
            "2606\n",
            "2614\n",
            "2641\n",
            "2650\n",
            "2675\n",
            "2680\n",
            "2697\n",
            "2709\n",
            "2715\n",
            "2716\n",
            "2752\n",
            "2754\n",
            "2767\n",
            "2779\n",
            "2820\n",
            "2862\n",
            "2865\n",
            "2866\n",
            "2874\n",
            "2877\n",
            "2878\n",
            "2880\n",
            "2889\n",
            "2895\n",
            "2901\n",
            "2904\n",
            "2916\n",
            "2919\n",
            "2926\n",
            "2929\n",
            "2945\n",
            "2954\n",
            "2956\n",
            "2989\n",
            "3001\n",
            "3005\n",
            "3008\n",
            "3021\n",
            "3028\n",
            "3036\n",
            "3040\n",
            "3042\n",
            "3056\n",
            "3059\n",
            "3068\n",
            "3073\n",
            "3093\n",
            "3116\n",
            "3129\n",
            "3147\n",
            "3157\n",
            "3177\n",
            "3181\n",
            "3188\n",
            "3189\n",
            "3202\n",
            "3215\n",
            "3220\n",
            "3230\n",
            "3232\n",
            "3247\n",
            "3253\n",
            "3259\n",
            "3262\n",
            "3286\n",
            "3303\n",
            "3304\n",
            "3320\n",
            "3333\n",
            "3342\n",
            "3351\n",
            "3358\n",
            "3369\n",
            "3398\n",
            "3402\n",
            "3404\n",
            "3415\n",
            "3417\n",
            "3427\n",
            "3447\n",
            "3454\n",
            "3466\n",
            "3487\n",
            "3502\n",
            "3531\n",
            "3532\n",
            "3533\n",
            "3536\n",
            "3549\n",
            "3586\n",
            "3590\n",
            "3592\n",
            "3593\n",
            "3619\n",
            "3627\n",
            "3630\n",
            "3654\n",
            "3663\n",
            "3674\n",
            "3697\n",
            "3712\n",
            "3727\n",
            "3731\n",
            "3739\n",
            "3747\n",
            "3748\n",
            "3775\n",
            "3781\n",
            "3783\n",
            "3784\n",
            "3785\n",
            "3800\n",
            "3807\n",
            "3812\n",
            "3823\n",
            "3831\n",
            "3847\n",
            "3849\n",
            "3857\n",
            "3861\n",
            "3868\n",
            "3877\n"
          ],
          "name": "stdout"
        }
      ]
    },
    {
      "cell_type": "code",
      "metadata": {
        "id": "nYUH78ggRLhQ",
        "outputId": "515e31e5-dd71-4a2e-b6b1-4d15c12ffe0d",
        "colab": {
          "base_uri": "https://localhost:8080/",
          "height": 71
        }
      },
      "source": [
        "bert_summaries[27][:2]"
      ],
      "execution_count": null,
      "outputs": [
        {
          "output_type": "execute_result",
          "data": {
            "text/plain": [
              "('The remains of a German hiker who disappeared while climbing in the Swiss Alps 30 years ago has been found embedded in a glacier, police said on Wednesday.The find was made on July 25 by two people climbing the Lagginhorn mountain, in southern Switzerland, police said in a statement.A few hundred metres before reaching the peak, the hikers spotted ?a hand and two shoes?, area police said.Extracting the remains that day was impossible because of poor weather, but rescue workers arrived by helicopter the following day, removed the remains from the ice and brought them to a hospital in the capital Bern for identification.Test have confirmed the climber was a German national born in 1943 who disappeared on August 11, 1987.The discovery came just two days after a Swiss couple who disappeared while walking in the Alps in 1942 were found in a receding glacier.',\n",
              " 'The find was made on July 25 by two people climbing the Lagginhorn mountain, in southern Switzerland, police said in a statement.Extracting the remains that day was impossible because of poor weather, but rescue workers arrived by helicopter the following day, removed the remains from the ice and brought them to a hospital in the capital Bern for identification.The discovery came just two days after a Swiss couple who disappeared while walking in the Alps in 1942 were found in a receding glacier.')"
            ]
          },
          "metadata": {
            "tags": []
          },
          "execution_count": 18
        }
      ]
    },
    {
      "cell_type": "code",
      "metadata": {
        "id": "Twj3Gjo3RRIo",
        "outputId": "f7c8c0db-2500-45a5-eb5b-f7fe7fb09509",
        "colab": {
          "base_uri": "https://localhost:8080/",
          "height": 71
        }
      },
      "source": [
        "tfidf_summaries[25][:2]"
      ],
      "execution_count": null,
      "outputs": [
        {
          "output_type": "execute_result",
          "data": {
            "text/plain": [
              "('The remains of a German hiker who disappeared while climbing in the Swiss Alps 30 years ago has been found embedded in a glacier, police said on Wednesday.The find was made on July 25 by two people climbing the Lagginhorn mountain, in southern Switzerland, police said in a statement.A few hundred metres before reaching the peak, the hikers spotted ?a hand and two shoes?, area police said.Extracting the remains that day was impossible because of poor weather, but rescue workers arrived by helicopter the following day, removed the remains from the ice and brought them to a hospital in the capital Bern for identification.Test have confirmed the climber was a German national born in 1943 who disappeared on August 11, 1987.The discovery came just two days after a Swiss couple who disappeared while walking in the Alps in 1942 were found in a receding glacier.',\n",
              " 'The remains of a German hiker who disappeared while climbing in the Swiss Alps 30 years ago has been found embedded in a glacier, police said on Wednesday.The find was made on July 25 by two people climbing the Lagginhorn mountain, in southern Switzerland, police said in a statement.The discovery came just two days after a Swiss couple who disappeared while walking in the Alps in 1942 were found in a receding glacier.')"
            ]
          },
          "metadata": {
            "tags": []
          },
          "execution_count": 21
        }
      ]
    },
    {
      "cell_type": "code",
      "metadata": {
        "id": "dqFx24gySZxD"
      },
      "source": [
        ""
      ],
      "execution_count": null,
      "outputs": []
    }
  ]
}