{
  "nbformat": 4,
  "nbformat_minor": 0,
  "metadata": {
    "colab": {
      "name": "abstractive_summ.ipynb",
      "provenance": [],
      "collapsed_sections": []
    },
    "kernelspec": {
      "name": "python3",
      "display_name": "Python 3"
    },
    "accelerator": "GPU"
  },
  "cells": [
    {
      "cell_type": "code",
      "metadata": {
        "id": "Q2rx2bmj03JO"
      },
      "source": [
        "###LOADING DATA"
      ],
      "execution_count": null,
      "outputs": []
    },
    {
      "cell_type": "code",
      "metadata": {
        "colab": {
          "base_uri": "https://localhost:8080/"
        },
        "id": "Zkixtp7DQ5fr",
        "outputId": "7199bf48-4d8f-4dd5-b6e9-f2ce85100bb1"
      },
      "source": [
        "%tensorflow_version 1.x"
      ],
      "execution_count": null,
      "outputs": [
        {
          "output_type": "stream",
          "text": [
            "TensorFlow 1.x selected.\n"
          ],
          "name": "stdout"
        }
      ]
    },
    {
      "cell_type": "code",
      "metadata": {
        "colab": {
          "base_uri": "https://localhost:8080/"
        },
        "id": "mBpRj8EYC5Eh",
        "outputId": "8c24487f-dd1e-4e84-a8c7-e3b67cf0ef4f"
      },
      "source": [
        "import pandas as pd\n",
        "import pandas as pd \n",
        "import re           \n",
        "from bs4 import BeautifulSoup \n",
        "from keras.preprocessing.text import Tokenizer \n",
        "from keras.preprocessing.sequence import pad_sequences\n",
        "import nltk  \n",
        "nltk.download('stopwords')\n",
        "from tensorflow.keras.layers import Input, LSTM, Embedding, Dense, Concatenate, TimeDistributed, Bidirectional,Attention\n",
        "from tensorflow.keras.models import Model\n",
        "from tensorflow.keras.callbacks import EarlyStopping\n"
      ],
      "execution_count": null,
      "outputs": [
        {
          "output_type": "stream",
          "text": [
            "Using TensorFlow backend.\n"
          ],
          "name": "stderr"
        },
        {
          "output_type": "stream",
          "text": [
            "[nltk_data] Downloading package stopwords to /root/nltk_data...\n",
            "[nltk_data]   Unzipping corpora/stopwords.zip.\n"
          ],
          "name": "stdout"
        }
      ]
    },
    {
      "cell_type": "code",
      "metadata": {
        "id": "_O4sHC6nQr33"
      },
      "source": [
        "summary_data=pd.read_csv('news_summary_more.csv',encoding='iso-8859-1')"
      ],
      "execution_count": null,
      "outputs": []
    },
    {
      "cell_type": "code",
      "metadata": {
        "id": "512r1HUlagLb"
      },
      "source": [
        "summ=summary_data['headlines']\n",
        "text=summary_data['text']"
      ],
      "execution_count": null,
      "outputs": []
    },
    {
      "cell_type": "code",
      "metadata": {
        "id": "icXugmE7rpFm"
      },
      "source": [
        "#DATA CLEANING"
      ],
      "execution_count": null,
      "outputs": []
    },
    {
      "cell_type": "code",
      "metadata": {
        "id": "sjFphcCFr0E5",
        "colab": {
          "base_uri": "https://localhost:8080/"
        },
        "outputId": "57b1a47b-db84-4dc4-adef-112c692365e6"
      },
      "source": [
        "stop_words = set(nltk.corpus.stopwords.words('english'))\n",
        "cnt=0\n",
        "for word in stop_words:\n",
        "    print(word)\n",
        "    cnt+=1\n",
        "    if cnt==10:\n",
        "        break"
      ],
      "execution_count": null,
      "outputs": [
        {
          "output_type": "stream",
          "text": [
            "mustn't\n",
            "all\n",
            "its\n",
            "that\n",
            "ll\n",
            "him\n",
            "you're\n",
            "against\n",
            "on\n",
            "off\n"
          ],
          "name": "stdout"
        }
      ]
    },
    {
      "cell_type": "code",
      "metadata": {
        "id": "6dscMVhWI532"
      },
      "source": [
        "contraction_mapping = {\"ain't\": \"is not\", \"aren't\": \"are not\",\"can't\": \"cannot\", \"'cause\": \"because\", \"could've\": \"could have\", \"couldn't\": \"could not\",\n",
        "\n",
        "                           \"didn't\": \"did not\", \"doesn't\": \"does not\", \"don't\": \"do not\", \"hadn't\": \"had not\", \"hasn't\": \"has not\", \"haven't\": \"have not\",\n",
        "\n",
        "                           \"he'd\": \"he would\",\"he'll\": \"he will\", \"he's\": \"he is\", \"how'd\": \"how did\", \"how'd'y\": \"how do you\", \"how'll\": \"how will\", \"how's\": \"how is\",\n",
        "\n",
        "                           \"I'd\": \"I would\", \"I'd've\": \"I would have\", \"I'll\": \"I will\", \"I'll've\": \"I will have\",\"I'm\": \"I am\", \"I've\": \"I have\", \"i'd\": \"i would\",\n",
        "\n",
        "                           \"i'd've\": \"i would have\", \"i'll\": \"i will\",  \"i'll've\": \"i will have\",\"i'm\": \"i am\", \"i've\": \"i have\", \"isn't\": \"is not\", \"it'd\": \"it would\",\n",
        "\n",
        "                           \"it'd've\": \"it would have\", \"it'll\": \"it will\", \"it'll've\": \"it will have\",\"it's\": \"it is\", \"let's\": \"let us\", \"ma'am\": \"madam\",\n",
        "\n",
        "                           \"mayn't\": \"may not\", \"might've\": \"might have\",\"mightn't\": \"might not\",\"mightn't've\": \"might not have\", \"must've\": \"must have\",\n",
        "\n",
        "                           \"mustn't\": \"must not\", \"mustn't've\": \"must not have\", \"needn't\": \"need not\", \"needn't've\": \"need not have\",\"o'clock\": \"of the clock\",\n",
        "\n",
        "                           \"oughtn't\": \"ought not\", \"oughtn't've\": \"ought not have\", \"shan't\": \"shall not\", \"sha'n't\": \"shall not\", \"shan't've\": \"shall not have\",\n",
        "\n",
        "                           \"she'd\": \"she would\", \"she'd've\": \"she would have\", \"she'll\": \"she will\", \"she'll've\": \"she will have\", \"she's\": \"she is\",\n",
        "\n",
        "                           \"should've\": \"should have\", \"shouldn't\": \"should not\", \"shouldn't've\": \"should not have\", \"so've\": \"so have\",\"so's\": \"so as\",\n",
        "\n",
        "                           \"this's\": \"this is\",\"that'd\": \"that would\", \"that'd've\": \"that would have\", \"that's\": \"that is\", \"there'd\": \"there would\",\n",
        "\n",
        "                           \"there'd've\": \"there would have\", \"there's\": \"there is\", \"here's\": \"here is\",\"they'd\": \"they would\", \"they'd've\": \"they would have\",\n",
        "\n",
        "                           \"they'll\": \"they will\", \"they'll've\": \"they will have\", \"they're\": \"they are\", \"they've\": \"they have\", \"to've\": \"to have\",\n",
        "\n",
        "                           \"wasn't\": \"was not\", \"we'd\": \"we would\", \"we'd've\": \"we would have\", \"we'll\": \"we will\", \"we'll've\": \"we will have\", \"we're\": \"we are\",\n",
        "\n",
        "                           \"we've\": \"we have\", \"weren't\": \"were not\", \"what'll\": \"what will\", \"what'll've\": \"what will have\", \"what're\": \"what are\",\n",
        "\n",
        "                           \"what's\": \"what is\", \"what've\": \"what have\", \"when's\": \"when is\", \"when've\": \"when have\", \"where'd\": \"where did\", \"where's\": \"where is\",\n",
        "\n",
        "                           \"where've\": \"where have\", \"who'll\": \"who will\", \"who'll've\": \"who will have\", \"who's\": \"who is\", \"who've\": \"who have\",\n",
        "\n",
        "                           \"why's\": \"why is\", \"why've\": \"why have\", \"will've\": \"will have\", \"won't\": \"will not\", \"won't've\": \"will not have\",\n",
        "\n",
        "                           \"would've\": \"would have\", \"wouldn't\": \"would not\", \"wouldn't've\": \"would not have\", \"y'all\": \"you all\",\n",
        "\n",
        "                           \"y'all'd\": \"you all would\",\"y'all'd've\": \"you all would have\",\"y'all're\": \"you all are\",\"y'all've\": \"you all have\",\n",
        "\n",
        "                           \"you'd\": \"you would\", \"you'd've\": \"you would have\", \"you'll\": \"you will\", \"you'll've\": \"you will have\",\n",
        "\n",
        "                           \"you're\": \"you are\", \"you've\": \"you have\"}"
      ],
      "execution_count": null,
      "outputs": []
    },
    {
      "cell_type": "code",
      "metadata": {
        "id": "jD_3eNVkFQFB"
      },
      "source": [
        "def text_cleaner(text,is_summary=False):\n",
        "    #converting string to lower case\n",
        "    newString = text.lower()\n",
        "    #removing special charcters like parentheses\n",
        "    newString = re.sub(r'\\([^)]*\\)', '', newString)\n",
        "    #removing quotes\n",
        "    newString = re.sub('\"','', newString)\n",
        "    #contraction mappings\n",
        "    newString = ' '.join([contraction_mapping[t] if t in contraction_mapping else t for t in newString.split(\" \")]) \n",
        "    #removing apostrophe s('s) \n",
        "    newString = re.sub(r\"'s\\b\",\"\",newString)\n",
        "    #only keeping alphabets, i.e removing numbers etc\n",
        "    newString = re.sub(\"[^a-zA-Z]\", \" \", newString) \n",
        "    #removing stop words\n",
        "    if is_summary==False:\n",
        "        tokens = [w for w in newString.split() if not w in stop_words]\n",
        "    else:\n",
        "        tokens = newString.split()\n",
        "    long_words=[]\n",
        "    #removing short words of length =1\n",
        "    for i in tokens:\n",
        "        if len(i)>=2:                  \n",
        "            long_words.append(i)   \n",
        "    return (\" \".join(long_words)).strip()"
      ],
      "execution_count": null,
      "outputs": []
    },
    {
      "cell_type": "code",
      "metadata": {
        "colab": {
          "base_uri": "https://localhost:8080/",
          "height": 86
        },
        "id": "By0uUrjjMRqp",
        "outputId": "4d159b2d-34a2-4753-b65e-f32c10fa5bdc"
      },
      "source": [
        "text[0]"
      ],
      "execution_count": null,
      "outputs": [
        {
          "output_type": "execute_result",
          "data": {
            "application/vnd.google.colaboratory.intrinsic+json": {
              "type": "string"
            },
            "text/plain": [
              "\"Saurav Kant, an alumnus of upGrad and IIIT-B's PG Program in Machine learning and Artificial Intelligence, was a Sr Systems Engineer at Infosys with almost 5 years of work experience. The program and upGrad's 360-degree career support helped him transition to a Data Scientist at Tech Mahindra with 90% salary hike. upGrad's Online Power Learning has powered 3 lakh+ careers.\""
            ]
          },
          "metadata": {
            "tags": []
          },
          "execution_count": 8
        }
      ]
    },
    {
      "cell_type": "code",
      "metadata": {
        "colab": {
          "base_uri": "https://localhost:8080/",
          "height": 69
        },
        "id": "SGM1EjQRMT6x",
        "outputId": "71adba86-6747-4d76-d720-25aace6bc1b9"
      },
      "source": [
        "text_cleaner(text[0])"
      ],
      "execution_count": null,
      "outputs": [
        {
          "output_type": "execute_result",
          "data": {
            "application/vnd.google.colaboratory.intrinsic+json": {
              "type": "string"
            },
            "text/plain": [
              "'saurav kant alumnus upgrad iiit pg program machine learning artificial intelligence sr systems engineer infosys almost years work experience program upgrad degree career support helped transition data scientist tech mahindra salary hike upgrad online power learning powered lakh careers'"
            ]
          },
          "metadata": {
            "tags": []
          },
          "execution_count": 9
        }
      ]
    },
    {
      "cell_type": "code",
      "metadata": {
        "id": "tMyqEeEOMjH5"
      },
      "source": [
        "cleaned_text=[]\n",
        "cleaned_summ=[]\n",
        "for txt in text:\n",
        "    cleaned_text.append(text_cleaner(txt))\n",
        "for txt in summ:\n",
        "    cleaned_summ.append(text_cleaner(txt,is_summary=True))"
      ],
      "execution_count": null,
      "outputs": []
    },
    {
      "cell_type": "code",
      "metadata": {
        "colab": {
          "base_uri": "https://localhost:8080/",
          "height": 69
        },
        "id": "Yuk5DZfvONIQ",
        "outputId": "03d8745e-0856-4b4b-ace5-a7a70abca13e"
      },
      "source": [
        "cleaned_text[1]"
      ],
      "execution_count": null,
      "outputs": [
        {
          "output_type": "execute_result",
          "data": {
            "application/vnd.google.colaboratory.intrinsic+json": {
              "type": "string"
            },
            "text/plain": [
              "'kunal shah credit card bill payment platform cred gave users chance win free food swiggy one year pranav kaushik delhi techie bagged reward spending cred coins users get one cred coin per rupee bill paid used avail rewards brands like ixigo bookmyshow ubereats cult fit'"
            ]
          },
          "metadata": {
            "tags": []
          },
          "execution_count": 11
        }
      ]
    },
    {
      "cell_type": "code",
      "metadata": {
        "colab": {
          "base_uri": "https://localhost:8080/",
          "height": 35
        },
        "id": "M7j7h49xOQA6",
        "outputId": "8fda3248-a596-4651-80b9-4114c33e5909"
      },
      "source": [
        "cleaned_summ[1]"
      ],
      "execution_count": null,
      "outputs": [
        {
          "output_type": "execute_result",
          "data": {
            "application/vnd.google.colaboratory.intrinsic+json": {
              "type": "string"
            },
            "text/plain": [
              "'delhi techie wins free food from swiggy for one year on cred'"
            ]
          },
          "metadata": {
            "tags": []
          },
          "execution_count": 12
        }
      ]
    },
    {
      "cell_type": "code",
      "metadata": {
        "id": "_OTiGjBYORXR"
      },
      "source": [
        "#ADDING \"_START_\" and \"_END_\" tokens to the summary\n",
        "final_summ=[]\n",
        "for txt in cleaned_summ:\n",
        "    final_summ.append('_START_ '+txt+' _END_')"
      ],
      "execution_count": null,
      "outputs": []
    },
    {
      "cell_type": "code",
      "metadata": {
        "colab": {
          "base_uri": "https://localhost:8080/",
          "height": 35
        },
        "id": "Qt1-F5RrPvzr",
        "outputId": "3125aaf5-b516-49b1-89e5-f6474678c8db"
      },
      "source": [
        "final_summ[0]"
      ],
      "execution_count": null,
      "outputs": [
        {
          "output_type": "execute_result",
          "data": {
            "application/vnd.google.colaboratory.intrinsic+json": {
              "type": "string"
            },
            "text/plain": [
              "'_START_ upgrad learner switches to career in ml al with salary hike _END_'"
            ]
          },
          "metadata": {
            "tags": []
          },
          "execution_count": 14
        }
      ]
    },
    {
      "cell_type": "code",
      "metadata": {
        "id": "Q5GlrjOqPwy6"
      },
      "source": [
        "#GETTING LENGTH STATISTICS"
      ],
      "execution_count": null,
      "outputs": []
    },
    {
      "cell_type": "code",
      "metadata": {
        "id": "8K84R2Q6QCEx"
      },
      "source": [
        "text_lengths=[]\n",
        "for i in range(len(cleaned_text)):\n",
        "    lmao=cleaned_text[i].split(' ')\n",
        "    text_lengths.append(len(lmao))"
      ],
      "execution_count": null,
      "outputs": []
    },
    {
      "cell_type": "code",
      "metadata": {
        "id": "fmjef2_TQIjo"
      },
      "source": [
        "summ_lengths=[]\n",
        "for i in range(len(final_summ)):\n",
        "    lmao=final_summ[i].split(' ')\n",
        "    summ_lengths.append(len(lmao))"
      ],
      "execution_count": null,
      "outputs": []
    },
    {
      "cell_type": "code",
      "metadata": {
        "colab": {
          "base_uri": "https://localhost:8080/",
          "height": 333
        },
        "id": "jDFbCFkZQVOa",
        "outputId": "050864f6-84fb-45c1-9d52-53b6c981d95b"
      },
      "source": [
        "import matplotlib.pyplot as plt\n",
        "\n",
        "plt.hist(text_lengths,bins=10)"
      ],
      "execution_count": null,
      "outputs": [
        {
          "output_type": "execute_result",
          "data": {
            "text/plain": [
              "(array([1.0000e+00, 0.0000e+00, 2.0000e+00, 2.3000e+02, 1.0770e+04,\n",
              "        5.2335e+04, 3.2606e+04, 2.4150e+03, 4.0000e+01, 2.0000e+00]),\n",
              " array([ 1. ,  6.9, 12.8, 18.7, 24.6, 30.5, 36.4, 42.3, 48.2, 54.1, 60. ]),\n",
              " <a list of 10 Patch objects>)"
            ]
          },
          "metadata": {
            "tags": []
          },
          "execution_count": 25
        },
        {
          "output_type": "display_data",
          "data": {
            "image/png": "[encoded data removed]",
            "text/plain": [
              "<Figure size 432x288 with 1 Axes>"
            ]
          },
          "metadata": {
            "tags": [],
            "needs_background": "light"
          }
        }
      ]
    },
    {
      "cell_type": "code",
      "metadata": {
        "colab": {
          "base_uri": "https://localhost:8080/",
          "height": 316
        },
        "id": "pn-sqSOQQYxU",
        "outputId": "917776c6-f524-4804-d893-bd72a05e2537"
      },
      "source": [
        "plt.hist(summ_lengths,bins=5)"
      ],
      "execution_count": null,
      "outputs": [
        {
          "output_type": "execute_result",
          "data": {
            "text/plain": [
              "(array([3.0000e+00, 1.9310e+03, 5.3816e+04, 4.1474e+04, 1.1770e+03]),\n",
              " array([ 3.,  6.,  9., 12., 15., 18.]),\n",
              " <a list of 5 Patch objects>)"
            ]
          },
          "metadata": {
            "tags": []
          },
          "execution_count": 26
        },
        {
          "output_type": "display_data",
          "data": {
            "image/png": "[encoded data removed]",
            "text/plain": [
              "<Figure size 432x288 with 1 Axes>"
            ]
          },
          "metadata": {
            "tags": [],
            "needs_background": "light"
          }
        }
      ]
    },
    {
      "cell_type": "code",
      "metadata": {
        "id": "MriqBImCQfOA"
      },
      "source": [
        "import numpy as np\n",
        "text_lengths=np.array(text_lengths)\n",
        "summ_lengths=np.array(summ_lengths)"
      ],
      "execution_count": null,
      "outputs": []
    },
    {
      "cell_type": "code",
      "metadata": {
        "colab": {
          "base_uri": "https://localhost:8080/"
        },
        "id": "d7ubSzE7THtw",
        "outputId": "9c79ff68-87be-4d1e-8efb-9250c594c38b"
      },
      "source": [
        "np.percentile(text_lengths,99.5)"
      ],
      "execution_count": null,
      "outputs": [
        {
          "output_type": "execute_result",
          "data": {
            "text/plain": [
              "45.0"
            ]
          },
          "metadata": {
            "tags": []
          },
          "execution_count": 28
        }
      ]
    },
    {
      "cell_type": "code",
      "metadata": {
        "colab": {
          "base_uri": "https://localhost:8080/"
        },
        "id": "kd7KTKFhTRQc",
        "outputId": "140d7f85-1776-4013-bec5-4d157b252fbb"
      },
      "source": [
        "np.percentile(summ_lengths,100)"
      ],
      "execution_count": null,
      "outputs": [
        {
          "output_type": "execute_result",
          "data": {
            "text/plain": [
              "18.0"
            ]
          },
          "metadata": {
            "tags": []
          },
          "execution_count": 29
        }
      ]
    },
    {
      "cell_type": "code",
      "metadata": {
        "id": "4-h0GCI6TfvV"
      },
      "source": [
        "max_len_text=45 \n",
        "max_len_summary=18"
      ],
      "execution_count": null,
      "outputs": []
    },
    {
      "cell_type": "code",
      "metadata": {
        "colab": {
          "base_uri": "https://localhost:8080/"
        },
        "id": "zl8wAC-yT4eA",
        "outputId": "eb00d18e-c57b-4429-b640-1a12bc793248"
      },
      "source": [
        "from sklearn.model_selection import train_test_split\n",
        "x_tr,x_val,y_tr,y_val=train_test_split(cleaned_text,final_summ,test_size=0.1,random_state=69,shuffle=True)\n",
        "print(len(x_tr))\n",
        "print(len(x_val))"
      ],
      "execution_count": null,
      "outputs": [
        {
          "output_type": "stream",
          "text": [
            "88560\n",
            "9841\n"
          ],
          "name": "stdout"
        }
      ]
    },
    {
      "cell_type": "code",
      "metadata": {
        "id": "X6pafjZwUfKZ"
      },
      "source": [
        "#TOKENIZER FOR THE TEXT "
      ],
      "execution_count": null,
      "outputs": []
    },
    {
      "cell_type": "code",
      "metadata": {
        "id": "BB-NIkslVOQP"
      },
      "source": [
        "x_tokenizer = Tokenizer()\n",
        "x_tokenizer.fit_on_texts(x_tr)\n",
        "\n",
        "#convert text sequences into integer sequences\n",
        "x_tr    =   x_tokenizer.texts_to_sequences(x_tr) \n",
        "x_val   =   x_tokenizer.texts_to_sequences(x_val)\n",
        "\n",
        "#padding zero upto maximum length\n",
        "x_tr    =   pad_sequences(x_tr,  maxlen=max_len_text, padding='post') \n",
        "x_val   =   pad_sequences(x_val, maxlen=max_len_text, padding='post')\n",
        "\n",
        "x_voc_size   =  len(x_tokenizer.word_index) +1"
      ],
      "execution_count": null,
      "outputs": []
    },
    {
      "cell_type": "code",
      "metadata": {
        "colab": {
          "base_uri": "https://localhost:8080/"
        },
        "id": "eycTNJOEVX52",
        "outputId": "477866ab-ce75-45eb-d78b-48a2e130c152"
      },
      "source": [
        "x_tr[0]"
      ],
      "execution_count": null,
      "outputs": [
        {
          "output_type": "execute_result",
          "data": {
            "text/plain": [
              "array([   28,   100,   934,   489,   155,  5141,   354,    66,   296,\n",
              "        3810,  1531,  7718,   133,  1531,   164, 11506,   321,  6300,\n",
              "         489,    35,  2519,  5787,  1531,   200,  1081,   324,  2651,\n",
              "         516,   489,  3810,  7718,  5187, 10535,  5738, 47117,     0,\n",
              "           0,     0,     0,     0,     0,     0,     0,     0,     0],\n",
              "      dtype=int32)"
            ]
          },
          "metadata": {
            "tags": []
          },
          "execution_count": 33
        }
      ]
    },
    {
      "cell_type": "code",
      "metadata": {
        "colab": {
          "base_uri": "https://localhost:8080/"
        },
        "id": "hH-HP-esVaij",
        "outputId": "e609537c-0ee1-4310-9089-b1888d897c4b"
      },
      "source": [
        "x_voc_size"
      ],
      "execution_count": null,
      "outputs": [
        {
          "output_type": "execute_result",
          "data": {
            "text/plain": [
              "73180"
            ]
          },
          "metadata": {
            "tags": []
          },
          "execution_count": 34
        }
      ]
    },
    {
      "cell_type": "code",
      "metadata": {
        "id": "bhRR7G1ZVd1d"
      },
      "source": [
        "y_tokenizer = Tokenizer()\n",
        "y_tokenizer.fit_on_texts(y_tr)\n",
        "\n",
        "#convert summary sequences into integer sequences\n",
        "y_tr    =   y_tokenizer.texts_to_sequences(y_tr) \n",
        "y_val   =   y_tokenizer.texts_to_sequences(y_val) \n",
        "\n",
        "#padding zero upto maximum length\n",
        "y_tr    =   pad_sequences(y_tr, maxlen=max_len_summary, padding='post')\n",
        "y_val   =   pad_sequences(y_val, maxlen=max_len_summary, padding='post')\n",
        "\n",
        "y_voc_size  =   len(y_tokenizer.word_index) +1"
      ],
      "execution_count": null,
      "outputs": []
    },
    {
      "cell_type": "code",
      "metadata": {
        "colab": {
          "base_uri": "https://localhost:8080/"
        },
        "id": "zVokWav1Vkvq",
        "outputId": "a8af55e6-5c1e-400e-c28e-485328367108"
      },
      "source": [
        "y_tr[1]"
      ],
      "execution_count": null,
      "outputs": [
        {
          "output_type": "execute_result",
          "data": {
            "text/plain": [
              "array([    2,  2696, 12271,    15,   266,  1824,  5070,  1366,   959,\n",
              "           1,     0,     0,     0,     0,     0,     0,     0,     0],\n",
              "      dtype=int32)"
            ]
          },
          "metadata": {
            "tags": []
          },
          "execution_count": 36
        }
      ]
    },
    {
      "cell_type": "code",
      "metadata": {
        "colab": {
          "base_uri": "https://localhost:8080/"
        },
        "id": "1MQjN99FVmDb",
        "outputId": "11873566-0070-431f-89ee-3ecfd51b8fff"
      },
      "source": [
        "y_voc_size"
      ],
      "execution_count": null,
      "outputs": [
        {
          "output_type": "execute_result",
          "data": {
            "text/plain": [
              "31387"
            ]
          },
          "metadata": {
            "tags": []
          },
          "execution_count": 37
        }
      ]
    },
    {
      "cell_type": "code",
      "metadata": {
        "id": "MkXWO1yVWJT_"
      },
      "source": [
        "#DEFINING MODEL !!!!!!!!"
      ],
      "execution_count": null,
      "outputs": []
    },
    {
      "cell_type": "code",
      "metadata": {
        "colab": {
          "base_uri": "https://localhost:8080/"
        },
        "id": "hYVdnEM3XGGk",
        "outputId": "e4ab607f-83ea-4d72-eb7d-f02fa46c5c1a"
      },
      "source": [
        "!git clone https://github.com/thushv89/attention_keras"
      ],
      "execution_count": null,
      "outputs": [
        {
          "output_type": "stream",
          "text": [
            "Cloning into 'attention_keras'...\n",
            "remote: Enumerating objects: 109, done.\u001b[K\n",
            "remote: Counting objects: 100% (109/109), done.\u001b[K\n",
            "remote: Compressing objects: 100% (71/71), done.\u001b[K\n",
            "remote: Total 218 (delta 43), reused 73 (delta 24), pack-reused 109\u001b[K\n",
            "Receiving objects: 100% (218/218), 213.21 KiB | 19.38 MiB/s, done.\n",
            "Resolving deltas: 100% (89/89), done.\n"
          ],
          "name": "stdout"
        }
      ]
    },
    {
      "cell_type": "code",
      "metadata": {
        "id": "KODcwJlXXxyg"
      },
      "source": [
        "import sys\n",
        "sys.path.insert(1, 'attention_keras/src/layers')"
      ],
      "execution_count": null,
      "outputs": []
    },
    {
      "cell_type": "code",
      "metadata": {
        "id": "VuPCZF-aX8QN"
      },
      "source": [
        "from attention import AttentionLayer"
      ],
      "execution_count": null,
      "outputs": []
    },
    {
      "cell_type": "code",
      "metadata": {
        "colab": {
          "base_uri": "https://localhost:8080/"
        },
        "id": "uvm7-zumVsZ5",
        "outputId": "5a9d9c2b-e049-4eb0-9430-c6b5bb065516"
      },
      "source": [
        "from keras import backend as K \n",
        "K.clear_session() \n",
        "embedding_dim = 200 \n",
        "hidden_dim = 300\n",
        "\n",
        "# Encoder(word index to embedding)\n",
        "encoder_inputs = Input(shape=(max_len_text,)) \n",
        "enc_emb = Embedding(x_voc_size, embedding_dim,trainable=True)(encoder_inputs) \n",
        "#LSTM 1 \n",
        "encoder_lstm1 = LSTM(hidden_dim,return_sequences=True,return_state=True) \n",
        "encoder_output1, state_h1, state_c1 = encoder_lstm1(enc_emb) \n",
        "#LSTM 2 \n",
        "encoder_lstm2 = LSTM(hidden_dim,return_sequences=True,return_state=True) \n",
        "encoder_output2, state_h2, state_c2 = encoder_lstm2(encoder_output1) \n",
        "#LSTM 3 \n",
        "encoder_lstm3=LSTM(hidden_dim, return_state=True, return_sequences=True) \n",
        "encoder_outputs, state_h, state_c= encoder_lstm3(encoder_output2) \n",
        "# Set up the decoder. \n",
        "decoder_inputs = Input(shape=(None,)) \n",
        "dec_emb_layer = Embedding(y_voc_size, hidden_dim,trainable=True) \n",
        "dec_emb = dec_emb_layer(decoder_inputs) \n",
        "#LSTM using encoder_states as initial state\n",
        "decoder_lstm = LSTM(hidden_dim, return_sequences=True, return_state=True) \n",
        "decoder_outputs,decoder_fwd_state, decoder_back_state = decoder_lstm(dec_emb,initial_state=[state_h, state_c]) \n",
        "#Attention Layer\n",
        "attn_layer = AttentionLayer(name='attention_layer') \n",
        "attn_out, attn_states = attn_layer([encoder_outputs, decoder_outputs]) \n",
        "# Concat attention output and decoder LSTM output \n",
        "decoder_concat_input = Concatenate(axis=-1, name='concat_layer')([decoder_outputs, attn_out])\n",
        "#Dense layer\n",
        "decoder_dense = TimeDistributed(Dense(y_voc_size, activation='softmax')) \n",
        "decoder_outputs = decoder_dense(decoder_concat_input) \n",
        "# Define the model\n",
        "model = Model([encoder_inputs, decoder_inputs], decoder_outputs) \n",
        "model.summary()"
      ],
      "execution_count": null,
      "outputs": [
        {
          "output_type": "stream",
          "text": [
            "WARNING:tensorflow:From /tensorflow-1.15.2/python3.6/tensorflow_core/python/keras/initializers.py:119: calling RandomUniform.__init__ (from tensorflow.python.ops.init_ops) with dtype is deprecated and will be removed in a future version.\n",
            "Instructions for updating:\n",
            "Call initializer instance with the dtype argument instead of passing it to the constructor\n",
            "WARNING:tensorflow:From /tensorflow-1.15.2/python3.6/tensorflow_core/python/ops/resource_variable_ops.py:1630: calling BaseResourceVariable.__init__ (from tensorflow.python.ops.resource_variable_ops) with constraint is deprecated and will be removed in a future version.\n",
            "Instructions for updating:\n",
            "If using Keras pass *_constraint arguments to layers.\n",
            "WARNING:tensorflow:Entity <bound method AttentionLayer.call of <attention.AttentionLayer object at 0x7f61d9e3b5f8>> could not be transformed and will be executed as-is. Please report this to the AutoGraph team. When filing the bug, set the verbosity to 10 (on Linux, `export AUTOGRAPH_VERBOSITY=10`) and attach the full output. Cause: module 'gast' has no attribute 'Num'\n",
            "WARNING: Entity <bound method AttentionLayer.call of <attention.AttentionLayer object at 0x7f61d9e3b5f8>> could not be transformed and will be executed as-is. Please report this to the AutoGraph team. When filing the bug, set the verbosity to 10 (on Linux, `export AUTOGRAPH_VERBOSITY=10`) and attach the full output. Cause: module 'gast' has no attribute 'Num'\n",
            "Model: \"model\"\n",
            "__________________________________________________________________________________________________\n",
            "Layer (type)                    Output Shape         Param #     Connected to                     \n",
            "==================================================================================================\n",
            "input_1 (InputLayer)            [(None, 45)]         0                                            \n",
            "__________________________________________________________________________________________________\n",
            "embedding (Embedding)           (None, 45, 200)      14636000    input_1[0][0]                    \n",
            "__________________________________________________________________________________________________\n",
            "lstm (LSTM)                     [(None, 45, 300), (N 601200      embedding[0][0]                  \n",
            "__________________________________________________________________________________________________\n",
            "input_2 (InputLayer)            [(None, None)]       0                                            \n",
            "__________________________________________________________________________________________________\n",
            "lstm_1 (LSTM)                   [(None, 45, 300), (N 721200      lstm[0][0]                       \n",
            "__________________________________________________________________________________________________\n",
            "embedding_1 (Embedding)         (None, None, 300)    9416100     input_2[0][0]                    \n",
            "__________________________________________________________________________________________________\n",
            "lstm_2 (LSTM)                   [(None, 45, 300), (N 721200      lstm_1[0][0]                     \n",
            "__________________________________________________________________________________________________\n",
            "lstm_3 (LSTM)                   [(None, None, 300),  721200      embedding_1[0][0]                \n",
            "                                                                 lstm_2[0][1]                     \n",
            "                                                                 lstm_2[0][2]                     \n",
            "__________________________________________________________________________________________________\n",
            "attention_layer (AttentionLayer ((None, None, 300),  180300      lstm_2[0][0]                     \n",
            "                                                                 lstm_3[0][0]                     \n",
            "__________________________________________________________________________________________________\n",
            "concat_layer (Concatenate)      (None, None, 600)    0           lstm_3[0][0]                     \n",
            "                                                                 attention_layer[0][0]            \n",
            "__________________________________________________________________________________________________\n",
            "time_distributed (TimeDistribut (None, None, 31387)  18863587    concat_layer[0][0]               \n",
            "==================================================================================================\n",
            "Total params: 45,860,787\n",
            "Trainable params: 45,860,787\n",
            "Non-trainable params: 0\n",
            "__________________________________________________________________________________________________\n"
          ],
          "name": "stdout"
        }
      ]
    },
    {
      "cell_type": "code",
      "metadata": {
        "id": "QDHkdrQ_X9vO"
      },
      "source": [
        "model.compile(optimizer='adam', loss='sparse_categorical_crossentropy')"
      ],
      "execution_count": null,
      "outputs": []
    },
    {
      "cell_type": "code",
      "metadata": {
        "id": "yYRkupMhYiTP"
      },
      "source": [
        "es = EarlyStopping(monitor='val_loss', mode='min', patience=2)"
      ],
      "execution_count": null,
      "outputs": []
    },
    {
      "cell_type": "code",
      "metadata": {
        "colab": {
          "base_uri": "https://localhost:8080/"
        },
        "id": "xAKDPVSDYl5t",
        "outputId": "343947e0-439a-4c36-c6ff-ee8a323b280c"
      },
      "source": [
        "x_tr=np.array(x_tr)\n",
        "x_val=np.array(x_val)\n",
        "y_tr=np.array(y_tr)\n",
        "y_val=np.array(y_val)\n",
        "x_tr.shape,x_val.shape,y_tr.shape,y_val.shape"
      ],
      "execution_count": null,
      "outputs": [
        {
          "output_type": "execute_result",
          "data": {
            "text/plain": [
              "((88560, 45), (9841, 45), (88560, 18), (9841, 18))"
            ]
          },
          "metadata": {
            "tags": []
          },
          "execution_count": 45
        }
      ]
    },
    {
      "cell_type": "code",
      "metadata": {
        "colab": {
          "base_uri": "https://localhost:8080/"
        },
        "id": "5QrcoMzAZEiV",
        "outputId": "f8f9d8d4-409c-4d41-96e3-95f71c7f79c4"
      },
      "source": [
        "training=model.fit([x_tr,y_tr[:,:-1]], y_tr.reshape(y_tr.shape[0],y_tr.shape[1], 1)[:,1:] ,epochs=50,callbacks=[es],batch_size=512, validation_data=([x_val,y_val[:,:-1]], y_val.reshape(y_val.shape[0],y_val.shape[1], 1)[:,1:]))"
      ],
      "execution_count": null,
      "outputs": [
        {
          "output_type": "stream",
          "text": [
            "WARNING:tensorflow:From /tensorflow-1.15.2/python3.6/tensorflow_core/python/ops/math_grad.py:1424: where (from tensorflow.python.ops.array_ops) is deprecated and will be removed in a future version.\n",
            "Instructions for updating:\n",
            "Use tf.where in 2.0, which has the same broadcast rule as np.where\n",
            "Train on 88560 samples, validate on 9841 samples\n",
            "Epoch 1/50\n",
            "88560/88560 [==============================] - 188s 2ms/sample - loss: 4.8477 - val_loss: 4.2176\n",
            "Epoch 2/50\n",
            "88560/88560 [==============================] - 183s 2ms/sample - loss: 4.2064 - val_loss: 4.0405\n",
            "Epoch 3/50\n",
            "88560/88560 [==============================] - 184s 2ms/sample - loss: 3.9735 - val_loss: 3.8235\n",
            "Epoch 4/50\n",
            "88560/88560 [==============================] - 185s 2ms/sample - loss: 3.7000 - val_loss: 3.5700\n",
            "Epoch 5/50\n",
            "88560/88560 [==============================] - 185s 2ms/sample - loss: 3.3855 - val_loss: 3.3423\n",
            "Epoch 6/50\n",
            "88560/88560 [==============================] - 186s 2ms/sample - loss: 3.1049 - val_loss: 3.1858\n",
            "Epoch 7/50\n",
            "88560/88560 [==============================] - 186s 2ms/sample - loss: 2.8580 - val_loss: 3.0783\n",
            "Epoch 8/50\n",
            "88560/88560 [==============================] - 186s 2ms/sample - loss: 2.6410 - val_loss: 3.0142\n",
            "Epoch 9/50\n",
            "88560/88560 [==============================] - 186s 2ms/sample - loss: 2.4480 - val_loss: 2.9650\n",
            "Epoch 10/50\n",
            "88560/88560 [==============================] - 185s 2ms/sample - loss: 2.2741 - val_loss: 2.9392\n",
            "Epoch 11/50\n",
            "88560/88560 [==============================] - 186s 2ms/sample - loss: 2.1184 - val_loss: 2.9237\n",
            "Epoch 12/50\n",
            "88560/88560 [==============================] - 186s 2ms/sample - loss: 1.9792 - val_loss: 2.9138\n",
            "Epoch 13/50\n",
            "88560/88560 [==============================] - 185s 2ms/sample - loss: 1.8526 - val_loss: 2.9143\n",
            "Epoch 14/50\n",
            "88560/88560 [==============================] - 185s 2ms/sample - loss: 1.7374 - val_loss: 2.9183\n"
          ],
          "name": "stdout"
        }
      ]
    },
    {
      "cell_type": "code",
      "metadata": {
        "colab": {
          "base_uri": "https://localhost:8080/",
          "height": 286
        },
        "id": "MWjzUXz3oJuu",
        "outputId": "a4c100ff-a081-4c40-e329-47212a196772"
      },
      "source": [
        "plt.plot(training.history['loss'], label='train') \n",
        "plt.plot(training.history['val_loss'], label='eval') \n",
        "plt.legend()"
      ],
      "execution_count": null,
      "outputs": [
        {
          "output_type": "execute_result",
          "data": {
            "text/plain": [
              "<matplotlib.legend.Legend at 0x7f61d211c940>"
            ]
          },
          "metadata": {
            "tags": []
          },
          "execution_count": 50
        },
        {
          "output_type": "display_data",
          "data": {
            "image/png": "[encoded data removed]",
            "text/plain": [
              "<Figure size 432x288 with 1 Axes>"
            ]
          },
          "metadata": {
            "tags": [],
            "needs_background": "light"
          }
        }
      ]
    },
    {
      "cell_type": "code",
      "metadata": {
        "id": "CoIC6DjmZGIs"
      },
      "source": [
        "reverse_target_word_index=y_tokenizer.index_word \n",
        "reverse_source_word_index=x_tokenizer.index_word \n",
        "target_word_index=y_tokenizer.word_index"
      ],
      "execution_count": null,
      "outputs": []
    },
    {
      "cell_type": "code",
      "metadata": {
        "colab": {
          "base_uri": "https://localhost:8080/"
        },
        "id": "_lYRrgwThiSw",
        "outputId": "72d261a4-2a29-4859-f62e-812c3e145cc1"
      },
      "source": [
        "# encoder inference\n",
        "encoder_model = Model(inputs=encoder_inputs,outputs=[encoder_outputs, state_h, state_c])\n",
        "# decoder inference\n",
        "# Below tensors will hold the states of the previous time step\n",
        "decoder_state_input_h = Input(shape=(hidden_dim,))\n",
        "decoder_state_input_c = Input(shape=(hidden_dim,))\n",
        "decoder_hidden_state_input = Input(shape=(max_len_text,hidden_dim))\n",
        "# Get the embeddings of the decoder sequence\n",
        "dec_emb2= dec_emb_layer(decoder_inputs)\n",
        "# To predict the next word in the sequence, set the initial states to the states from the previous time step\n",
        "decoder_outputs2, state_h2, state_c2 = decoder_lstm(dec_emb2, initial_state=[decoder_state_input_h, decoder_state_input_c])\n",
        "#attention inference\n",
        "attn_out_inf, attn_states_inf = attn_layer([decoder_hidden_state_input, decoder_outputs2])\n",
        "decoder_inf_concat = Concatenate(axis=-1, name='concat')([decoder_outputs2, attn_out_inf])\n",
        "# A dense softmax layer to generate prob dist. over the target vocabulary\n",
        "decoder_outputs2 = decoder_dense(decoder_inf_concat)\n",
        "# Final decoder model\n",
        "decoder_model = Model(\n",
        "[decoder_inputs] + [decoder_hidden_state_input,decoder_state_input_h, decoder_state_input_c],\n",
        "[decoder_outputs2] + [state_h2, state_c2])"
      ],
      "execution_count": null,
      "outputs": [
        {
          "output_type": "stream",
          "text": [
            "WARNING:tensorflow:Entity <bound method AttentionLayer.call of <attention.AttentionLayer object at 0x7f61d9e3b5f8>> could not be transformed and will be executed as-is. Please report this to the AutoGraph team. When filing the bug, set the verbosity to 10 (on Linux, `export AUTOGRAPH_VERBOSITY=10`) and attach the full output. Cause: module 'gast' has no attribute 'Num'\n",
            "WARNING: Entity <bound method AttentionLayer.call of <attention.AttentionLayer object at 0x7f61d9e3b5f8>> could not be transformed and will be executed as-is. Please report this to the AutoGraph team. When filing the bug, set the verbosity to 10 (on Linux, `export AUTOGRAPH_VERBOSITY=10`) and attach the full output. Cause: module 'gast' has no attribute 'Num'\n"
          ],
          "name": "stdout"
        }
      ]
    },
    {
      "cell_type": "code",
      "metadata": {
        "id": "gaXyUzbxhnhb"
      },
      "source": [
        "def decode_sequence(input_seq,BEAM_SIZE=8):\n",
        "    # Encode the input as state vectors.\n",
        "    e_out, e_h, e_c = encoder_model.predict(input_seq)\n",
        "\n",
        "    # Generate empty target sequence of length 1.\n",
        "    target_seq = np.zeros((1,1))\n",
        "\n",
        "    # Chose the 'start' word as the first word of the target sequence\n",
        "    target_seq[0, 0] = target_word_index['start']\n",
        "\n",
        "    stop_condition = False\n",
        "    decoded_sentence = ''\n",
        "    while not stop_condition:\n",
        "        output_tokens, h, c = decoder_model.predict([target_seq] + [e_out, e_h, e_c])\n",
        "\n",
        "        # Sample a token\n",
        "        sampled_token_index = np.argmax(output_tokens[0, -1, :])\n",
        "        sampled_token = reverse_target_word_index[sampled_token_index]\n",
        "\n",
        "        if(sampled_token!='end'):\n",
        "            decoded_sentence += ' '+sampled_token\n",
        "\n",
        "        # Exit condition: either hit max length or find stop word.\n",
        "        if (sampled_token == 'end' or len(decoded_sentence.split()) >= (max_len_summary-1)):\n",
        "                stop_condition = True\n",
        "\n",
        "        # Update the target sequence (of length 1).\n",
        "        target_seq = np.zeros((1,1))\n",
        "        target_seq[0, 0] = sampled_token_index\n",
        "\n",
        "        # Update internal states\n",
        "        e_h, e_c = h, c\n",
        "\n",
        "    return decoded_sentence"
      ],
      "execution_count": null,
      "outputs": []
    },
    {
      "cell_type": "code",
      "metadata": {
        "id": "8HDLA5cCiOgK"
      },
      "source": [
        "def seq2summary(input_seq):\n",
        "    newString=''\n",
        "    for i in input_seq:\n",
        "      if((i!=0 and i!=target_word_index['start']) and i!=target_word_index['end']):\n",
        "        newString=newString+reverse_target_word_index[i]+' '\n",
        "    return newString\n",
        "\n",
        "def seq2text(input_seq):\n",
        "    newString=''\n",
        "    for i in input_seq:\n",
        "      if(i!=0):\n",
        "        newString=newString+reverse_source_word_index[i]+' '\n",
        "    return newString"
      ],
      "execution_count": null,
      "outputs": []
    },
    {
      "cell_type": "code",
      "metadata": {
        "colab": {
          "base_uri": "https://localhost:8080/"
        },
        "id": "di-W-Ko-gp35",
        "outputId": "0f88857f-4295-497d-c6c9-78924adb7a5e"
      },
      "source": [
        "!pip install rouge-score"
      ],
      "execution_count": null,
      "outputs": [
        {
          "output_type": "stream",
          "text": [
            "Collecting rouge-score\n",
            "  Downloading https://files.pythonhosted.org/packages/1f/56/a81022436c08b9405a5247b71635394d44fe7e1dbedc4b28c740e09c2840/rouge_score-0.0.4-py2.py3-none-any.whl\n",
            "Requirement already satisfied: numpy in /usr/local/lib/python3.6/dist-packages (from rouge-score) (1.18.5)\n",
            "Requirement already satisfied: six>=1.14.0 in /usr/local/lib/python3.6/dist-packages (from rouge-score) (1.15.0)\n",
            "Requirement already satisfied: absl-py in /usr/local/lib/python3.6/dist-packages (from rouge-score) (0.10.0)\n",
            "Requirement already satisfied: nltk in /usr/local/lib/python3.6/dist-packages (from rouge-score) (3.2.5)\n",
            "Installing collected packages: rouge-score\n",
            "Successfully installed rouge-score-0.0.4\n"
          ],
          "name": "stdout"
        }
      ]
    },
    {
      "cell_type": "code",
      "metadata": {
        "id": "-mn5Qk5_gxKh"
      },
      "source": [
        "from rouge_score import rouge_scorer\n",
        "scorer = rouge_scorer.RougeScorer(['rouge1', 'rougeL'], use_stemmer=True)"
      ],
      "execution_count": null,
      "outputs": []
    },
    {
      "cell_type": "code",
      "metadata": {
        "colab": {
          "base_uri": "https://localhost:8080/"
        },
        "id": "QLYYFPyBiRNS",
        "outputId": "1d71a547-8ca8-4828-d655-b1b6e699b8f9"
      },
      "source": [
        "cnt=0\n",
        "r1_p=0\n",
        "r1_r=0\n",
        "r1_f=0\n",
        "rL_p=0\n",
        "rL_r=0\n",
        "rL_f=0\n",
        "for i in range(len(x_val)):\n",
        "    sys.stdout.write(\"\\rTesting for {} of {}\".format(i+1,len(x_val)))\n",
        "    sys.stdout.flush()\n",
        "    x1=seq2summary(y_val[i])\n",
        "    try:\n",
        "        x2=decode_sequence(x_val[i].reshape(1,max_len_text))\n",
        "        scores = scorer.score(x1,x2)\n",
        "        r1_p+=scores['rouge1'][0]\n",
        "        r1_r+=scores['rouge1'][1]\n",
        "        r1_f+=scores['rouge1'][2]\n",
        "        rL_p+=scores['rougeL'][0]\n",
        "        rL_r+=scores['rougeL'][1]\n",
        "        rL_f+=scores['rougeL'][2]\n",
        "    except:\n",
        "        cnt+=1\n",
        "print(\"\\nStatistics not calculated for {} texts\".format(cnt))\n",
        "print(\"Rough-1 precision :{}\".format(r1_p/len(x_val)))\n",
        "print(\"Rough-1 recall :{}\".format(r1_r/len(x_val)))\n",
        "print(\"Rough-1 f-score :{}\".format(r1_f/len(x_val)))\n",
        "print(\"Rough-L precision :{}\".format(rL_p/len(x_val)))\n",
        "print(\"Rough-L recall :{}\".format(rL_r/len(x_val)))\n",
        "print(\"Rough-L f-score :{}\".format(rL_f/len(x_val)))"
      ],
      "execution_count": null,
      "outputs": [
        {
          "output_type": "stream",
          "text": [
            "Testing for 9841 of 9841Statistics not calculated for 1 texts\n",
            "Rough-1 precision :0.1978264101272792\n",
            "Rough-1 recall :0.19903869008633845\n",
            "Rough-1 f-score :0.19653442305613134\n",
            "Rough-L precision :0.1795213724885869\n",
            "Rough-L recall :0.18094771524808234\n",
            "Rough-L f-score :0.17849656811563663\n"
          ],
          "name": "stdout"
        }
      ]
    },
    {
      "cell_type": "code",
      "metadata": {
        "colab": {
          "base_uri": "https://localhost:8080/"
        },
        "id": "ilYZ1wUBcWQS",
        "outputId": "eb7089d8-e4fc-44dc-902e-9df65260129a"
      },
      "source": [
        "for i in range(0,10):\n",
        "    print(\"News article:\",seq2text(x_val[i]))\n",
        "    print(\"Original summary:\",seq2summary(y_val[i]))\n",
        "    print(\"Predicted summary:\",decode_sequence(x_val[i].reshape(1,max_len_text)))\n",
        "    print(\"****************\\n\")"
      ],
      "execution_count": null,
      "outputs": [
        {
          "output_type": "stream",
          "text": [
            "News article: least people killed others injured magnitude earthquake struck japan second biggest metropolis osaka monday reports said earthquake trigger tsunami warning nuclear plants area operating normally lakh households osaka neighbouring prefecture suffered temporary power outages \n",
            "Original summary: killed injured in magnitude earthquake in japan \n",
            "Predicted summary:  earthquake feared dead in mexico earthquake\n",
            "****************\n",
            "\n",
            "News article: actor ranveer singh gatecrashed wedding mumbai surprised couple approached mandap wished wedding taking place hotel ranveer promoting upcoming film simmba video actor seen welcomed wedding posing photographs guests \n",
            "Original summary: ranveer singh gatecrashes wedding in mumbai wishes the couple \n",
            "Predicted summary:  ranveer dances to ranveer at wedding at wedding reception\n",
            "****************\n",
            "\n",
            "News article: bcci decided extend indian women cricket team coach ramesh powar contract invited fresh applications post contract powar appointed august tushar arothe quit following differences senior players training methods ended today mithali raj accused powar humiliating women world \n",
            "Original summary: bcci does not extend powar contract looks for new women coach \n",
            "Predicted summary:  bcci to appoint coach of indian women coach reports\n",
            "****************\n",
            "\n",
            "News article: gurugram based hotel aggregator oyo launched cryptocurrency called oyo smart coin startup announced using cryptocurrency customers able transact reduced prices oyo said statement also enable oyo travel partners directly offer benefits consumers market \n",
            "Original summary: oyo launches its own cryptocurrency oyo smart coin \n",
            "Predicted summary:  oyo forays into debit card startup raises mn\n",
            "****************\n",
            "\n",
            "News article: technology giant apple filed patent virtual reality system help ease motion sickness patent describes system may provide virtual views match visual cues physical motions passenger experiences system could include vr headset projector display images interior walls vehicle \n",
            "Original summary: apple shows vr system that can prevent motion sickness \n",
            "Predicted summary:  apple patents iphone that can be tricked into videos\n",
            "****************\n",
            "\n",
            "News article: england football club southend united striker nile ranger celebrated first goal returning jail imitating gun celebration ranger converted penalty took shoe pretending gun imitated shooting crowd year old released last month serving weeks jail online banking fraud \n",
            "Original summary: player released from jail celebrates goal with gun action \n",
            "Predicted summary:  player who broke baseball player during match celebration\n",
            "****************\n",
            "\n",
            "News article: rising pune supergiant player ms dhoni became second wicketkeeper complete dismissals ipl reaching landmark delhi daredevils friday dhoni th victim shreyas iyer former taking catch jaydev unadkat bowling dinesh karthik first wicketkeeper effect dismissals ipl reaching landmark last month \n",
            "Original summary: dhoni second keeper to complete dismissals in ipl \n",
            "Predicted summary:  dhoni overtakes dhoni to hit ipl score in ipl history\n",
            "****************\n",
            "\n",
            "News article: actor shakti kapoor said villains disappearing modern cinema trend changing actor versatile good every role added shakti said bollywood always adamant creating unique experience villain character romantic sequence villain happen modern times \n",
            "Original summary: villains are disappearing from modern cinema shakti kapoor \n",
            "Predicted summary:  no one of the film industry is doing roles rishi kapoor\n",
            "****************\n",
            "\n",
            "News article: cricketer suresh raina posted video one year old daughter gracia saying papa father day sunday raina captioned video love dad talk baby earlier year raina brought daughter stadium ipl match dedicated orange cap \n",
            "Original summary: raina posts video of daughter saying papa on father day \n",
            "Predicted summary:  raina shares pic of daughter wanting to celebrate day\n",
            "****************\n",
            "\n",
            "News article: scientists identified proteins dragon blood inspired synthetic peptide made antibiotic lab designed peptide significantly promoted wound healing lab well living organisms uninfected infected wounds scientists also observed accelerated skin closure healing decreased bacteria count infected mice \n",
            "Original summary: dragon inspired synthetic blood used as healing drug \n",
            "Predicted summary:  researchers develop blood to detect cancer using bacteria\n",
            "****************\n",
            "\n"
          ],
          "name": "stdout"
        }
      ]
    },
    {
      "cell_type": "code",
      "metadata": {
        "colab": {
          "base_uri": "https://localhost:8080/",
          "height": 197
        },
        "id": "cJz-hzFJiWxG",
        "outputId": "943e71f2-c784-4017-8d32-1cb06598d370"
      },
      "source": [
        "x=10\n",
        "while 1:\n",
        "    x+=1\n",
        "    x-=1"
      ],
      "execution_count": null,
      "outputs": [
        {
          "output_type": "error",
          "ename": "KeyboardInterrupt",
          "evalue": "ignored",
          "traceback": [
            "\u001b[0;31m---------------------------------------------------------------------------\u001b[0m",
            "\u001b[0;31mKeyboardInterrupt\u001b[0m                         Traceback (most recent call last)",
            "\u001b[0;32m<ipython-input-62-32796ee262e0>\u001b[0m in \u001b[0;36m<module>\u001b[0;34m()\u001b[0m\n\u001b[1;32m      2\u001b[0m \u001b[0;32mwhile\u001b[0m \u001b[0;36m1\u001b[0m\u001b[0;34m:\u001b[0m\u001b[0;34m\u001b[0m\u001b[0;34m\u001b[0m\u001b[0m\n\u001b[1;32m      3\u001b[0m     \u001b[0mx\u001b[0m\u001b[0;34m+=\u001b[0m\u001b[0;36m1\u001b[0m\u001b[0;34m\u001b[0m\u001b[0;34m\u001b[0m\u001b[0m\n\u001b[0;32m----> 4\u001b[0;31m     \u001b[0mx\u001b[0m\u001b[0;34m-=\u001b[0m\u001b[0;36m1\u001b[0m\u001b[0;34m\u001b[0m\u001b[0;34m\u001b[0m\u001b[0m\n\u001b[0m",
            "\u001b[0;31mKeyboardInterrupt\u001b[0m: "
          ]
        }
      ]
    },
    {
      "cell_type": "code",
      "metadata": {
        "id": "hNAloK94vHhm"
      },
      "source": [
        ""
      ],
      "execution_count": null,
      "outputs": []
    }
  ]
}